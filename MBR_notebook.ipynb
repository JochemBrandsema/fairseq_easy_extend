{
  "cells": [
    {
      "cell_type": "markdown",
      "metadata": {
        "id": "zZZ0coLXJAIG"
      },
      "source": [
        "# **NLP 2 Spring 2024: Project B. MBR decoding for Autoregressive and Non-Autoregressive Neural Machine Translation**"
      ]
    },
    {
      "cell_type": "markdown",
      "source": [
        "Jochem Brandsema\n",
        "\n",
        "University of Amsterdam\n",
        "\n",
        "jochem.brandsema@student.uva.nl"
      ],
      "metadata": {
        "id": "UJ0BlpHbGRlR"
      }
    },
    {
      "cell_type": "markdown",
      "metadata": {
        "id": "_DzRzavlJxUT"
      },
      "source": [
        "## Prerequisites"
      ]
    },
    {
      "cell_type": "code",
      "execution_count": 1,
      "metadata": {
        "colab": {
          "base_uri": "https://localhost:8080/"
        },
        "id": "J985QC3ubHSG",
        "outputId": "d08372d1-891c-4308-9398-9cfa57efafd6"
      },
      "outputs": [
        {
          "output_type": "stream",
          "name": "stdout",
          "text": [
            "Cloning into 'fairseq_easy_extend'...\n",
            "remote: Enumerating objects: 271, done.\u001b[K\n",
            "remote: Counting objects: 100% (120/120), done.\u001b[K\n",
            "remote: Compressing objects: 100% (72/72), done.\u001b[K\n",
            "remote: Total 271 (delta 79), reused 69 (delta 48), pack-reused 151\u001b[K\n",
            "Receiving objects: 100% (271/271), 100.92 KiB | 1.02 MiB/s, done.\n",
            "Resolving deltas: 100% (133/133), done.\n"
          ]
        }
      ],
      "source": [
        "import os\n",
        "!git clone https://github.com/JochemBrandsema/fairseq_easy_extend.git\n",
        "os.chdir('fairseq_easy_extend')"
      ]
    },
    {
      "cell_type": "code",
      "execution_count": 4,
      "metadata": {
        "colab": {
          "base_uri": "https://localhost:8080/"
        },
        "id": "_sVDTAo2LGkX",
        "outputId": "325df1bd-4e6c-4913-f0e8-e7d54d6d242b"
      },
      "outputs": [
        {
          "output_type": "stream",
          "name": "stdout",
          "text": [
            "Mounted at /content/drive/\n"
          ]
        }
      ],
      "source": [
        "from google.colab import drive\n",
        "drive.mount('/content/drive/')"
      ]
    },
    {
      "cell_type": "code",
      "execution_count": 5,
      "metadata": {
        "colab": {
          "base_uri": "https://localhost:8080/"
        },
        "id": "m9pcWed7UU01",
        "outputId": "2b459528-d9d4-4d59-8cab-b6e0794ac4eb"
      },
      "outputs": [
        {
          "output_type": "stream",
          "name": "stdout",
          "text": [
            "Collecting fairseq\n",
            "  Downloading fairseq-0.12.2.tar.gz (9.6 MB)\n",
            "\u001b[2K     \u001b[90m━━━━━━━━━━━━━━━━━━━━━━━━━━━━━━━━━━━━━━━━\u001b[0m \u001b[32m9.6/9.6 MB\u001b[0m \u001b[31m47.1 MB/s\u001b[0m eta \u001b[36m0:00:00\u001b[0m\n",
            "\u001b[?25h  Installing build dependencies ... \u001b[?25l\u001b[?25hdone\n",
            "  Getting requirements to build wheel ... \u001b[?25l\u001b[?25hdone\n",
            "  Installing backend dependencies ... \u001b[?25l\u001b[?25hdone\n",
            "  Preparing metadata (pyproject.toml) ... \u001b[?25l\u001b[?25hdone\n",
            "Requirement already satisfied: cffi in /usr/local/lib/python3.10/dist-packages (from fairseq) (1.16.0)\n",
            "Requirement already satisfied: cython in /usr/local/lib/python3.10/dist-packages (from fairseq) (3.0.10)\n",
            "Collecting hydra-core<1.1,>=1.0.7 (from fairseq)\n",
            "  Downloading hydra_core-1.0.7-py3-none-any.whl (123 kB)\n",
            "\u001b[2K     \u001b[90m━━━━━━━━━━━━━━━━━━━━━━━━━━━━━━━━━━━━━━━━\u001b[0m \u001b[32m123.8/123.8 kB\u001b[0m \u001b[31m13.1 MB/s\u001b[0m eta \u001b[36m0:00:00\u001b[0m\n",
            "\u001b[?25hCollecting omegaconf<2.1 (from fairseq)\n",
            "  Downloading omegaconf-2.0.6-py3-none-any.whl (36 kB)\n",
            "Requirement already satisfied: regex in /usr/local/lib/python3.10/dist-packages (from fairseq) (2024.5.15)\n",
            "Collecting sacrebleu>=1.4.12 (from fairseq)\n",
            "  Downloading sacrebleu-2.4.2-py3-none-any.whl (106 kB)\n",
            "\u001b[2K     \u001b[90m━━━━━━━━━━━━━━━━━━━━━━━━━━━━━━━━━━━━━━━━\u001b[0m \u001b[32m106.7/106.7 kB\u001b[0m \u001b[31m12.7 MB/s\u001b[0m eta \u001b[36m0:00:00\u001b[0m\n",
            "\u001b[?25hRequirement already satisfied: torch in /usr/local/lib/python3.10/dist-packages (from fairseq) (2.3.0+cu121)\n",
            "Requirement already satisfied: tqdm in /usr/local/lib/python3.10/dist-packages (from fairseq) (4.66.4)\n",
            "Collecting bitarray (from fairseq)\n",
            "  Downloading bitarray-2.9.2-cp310-cp310-manylinux_2_17_x86_64.manylinux2014_x86_64.whl (288 kB)\n",
            "\u001b[2K     \u001b[90m━━━━━━━━━━━━━━━━━━━━━━━━━━━━━━━━━━━━━━━━\u001b[0m \u001b[32m288.3/288.3 kB\u001b[0m \u001b[31m32.0 MB/s\u001b[0m eta \u001b[36m0:00:00\u001b[0m\n",
            "\u001b[?25hRequirement already satisfied: torchaudio>=0.8.0 in /usr/local/lib/python3.10/dist-packages (from fairseq) (2.3.0+cu121)\n",
            "Requirement already satisfied: numpy in /usr/local/lib/python3.10/dist-packages (from fairseq) (1.25.2)\n",
            "Collecting antlr4-python3-runtime==4.8 (from hydra-core<1.1,>=1.0.7->fairseq)\n",
            "  Downloading antlr4-python3-runtime-4.8.tar.gz (112 kB)\n",
            "\u001b[2K     \u001b[90m━━━━━━━━━━━━━━━━━━━━━━━━━━━━━━━━━━━━━━━━\u001b[0m \u001b[32m112.4/112.4 kB\u001b[0m \u001b[31m14.2 MB/s\u001b[0m eta \u001b[36m0:00:00\u001b[0m\n",
            "\u001b[?25h  Preparing metadata (setup.py) ... \u001b[?25l\u001b[?25hdone\n",
            "Requirement already satisfied: PyYAML>=5.1.* in /usr/local/lib/python3.10/dist-packages (from omegaconf<2.1->fairseq) (6.0.1)\n",
            "Requirement already satisfied: typing-extensions in /usr/local/lib/python3.10/dist-packages (from omegaconf<2.1->fairseq) (4.11.0)\n",
            "Collecting portalocker (from sacrebleu>=1.4.12->fairseq)\n",
            "  Downloading portalocker-2.8.2-py3-none-any.whl (17 kB)\n",
            "Requirement already satisfied: tabulate>=0.8.9 in /usr/local/lib/python3.10/dist-packages (from sacrebleu>=1.4.12->fairseq) (0.9.0)\n",
            "Collecting colorama (from sacrebleu>=1.4.12->fairseq)\n",
            "  Downloading colorama-0.4.6-py2.py3-none-any.whl (25 kB)\n",
            "Requirement already satisfied: lxml in /usr/local/lib/python3.10/dist-packages (from sacrebleu>=1.4.12->fairseq) (4.9.4)\n",
            "Requirement already satisfied: filelock in /usr/local/lib/python3.10/dist-packages (from torch->fairseq) (3.14.0)\n",
            "Requirement already satisfied: sympy in /usr/local/lib/python3.10/dist-packages (from torch->fairseq) (1.12)\n",
            "Requirement already satisfied: networkx in /usr/local/lib/python3.10/dist-packages (from torch->fairseq) (3.3)\n",
            "Requirement already satisfied: jinja2 in /usr/local/lib/python3.10/dist-packages (from torch->fairseq) (3.1.4)\n",
            "Requirement already satisfied: fsspec in /usr/local/lib/python3.10/dist-packages (from torch->fairseq) (2023.6.0)\n",
            "Collecting nvidia-cuda-nvrtc-cu12==12.1.105 (from torch->fairseq)\n",
            "  Using cached nvidia_cuda_nvrtc_cu12-12.1.105-py3-none-manylinux1_x86_64.whl (23.7 MB)\n",
            "Collecting nvidia-cuda-runtime-cu12==12.1.105 (from torch->fairseq)\n",
            "  Using cached nvidia_cuda_runtime_cu12-12.1.105-py3-none-manylinux1_x86_64.whl (823 kB)\n",
            "Collecting nvidia-cuda-cupti-cu12==12.1.105 (from torch->fairseq)\n",
            "  Using cached nvidia_cuda_cupti_cu12-12.1.105-py3-none-manylinux1_x86_64.whl (14.1 MB)\n",
            "Collecting nvidia-cudnn-cu12==8.9.2.26 (from torch->fairseq)\n",
            "  Using cached nvidia_cudnn_cu12-8.9.2.26-py3-none-manylinux1_x86_64.whl (731.7 MB)\n",
            "Collecting nvidia-cublas-cu12==12.1.3.1 (from torch->fairseq)\n",
            "  Using cached nvidia_cublas_cu12-12.1.3.1-py3-none-manylinux1_x86_64.whl (410.6 MB)\n",
            "Collecting nvidia-cufft-cu12==11.0.2.54 (from torch->fairseq)\n",
            "  Using cached nvidia_cufft_cu12-11.0.2.54-py3-none-manylinux1_x86_64.whl (121.6 MB)\n",
            "Collecting nvidia-curand-cu12==10.3.2.106 (from torch->fairseq)\n",
            "  Using cached nvidia_curand_cu12-10.3.2.106-py3-none-manylinux1_x86_64.whl (56.5 MB)\n",
            "Collecting nvidia-cusolver-cu12==11.4.5.107 (from torch->fairseq)\n",
            "  Using cached nvidia_cusolver_cu12-11.4.5.107-py3-none-manylinux1_x86_64.whl (124.2 MB)\n",
            "Collecting nvidia-cusparse-cu12==12.1.0.106 (from torch->fairseq)\n",
            "  Using cached nvidia_cusparse_cu12-12.1.0.106-py3-none-manylinux1_x86_64.whl (196.0 MB)\n",
            "Collecting nvidia-nccl-cu12==2.20.5 (from torch->fairseq)\n",
            "  Using cached nvidia_nccl_cu12-2.20.5-py3-none-manylinux2014_x86_64.whl (176.2 MB)\n",
            "Collecting nvidia-nvtx-cu12==12.1.105 (from torch->fairseq)\n",
            "  Using cached nvidia_nvtx_cu12-12.1.105-py3-none-manylinux1_x86_64.whl (99 kB)\n",
            "Requirement already satisfied: triton==2.3.0 in /usr/local/lib/python3.10/dist-packages (from torch->fairseq) (2.3.0)\n",
            "Collecting nvidia-nvjitlink-cu12 (from nvidia-cusolver-cu12==11.4.5.107->torch->fairseq)\n",
            "  Downloading nvidia_nvjitlink_cu12-12.5.40-py3-none-manylinux2014_x86_64.whl (21.3 MB)\n",
            "\u001b[2K     \u001b[90m━━━━━━━━━━━━━━━━━━━━━━━━━━━━━━━━━━━━━━━━\u001b[0m \u001b[32m21.3/21.3 MB\u001b[0m \u001b[31m64.5 MB/s\u001b[0m eta \u001b[36m0:00:00\u001b[0m\n",
            "\u001b[?25hRequirement already satisfied: pycparser in /usr/local/lib/python3.10/dist-packages (from cffi->fairseq) (2.22)\n",
            "Requirement already satisfied: MarkupSafe>=2.0 in /usr/local/lib/python3.10/dist-packages (from jinja2->torch->fairseq) (2.1.5)\n",
            "Requirement already satisfied: mpmath>=0.19 in /usr/local/lib/python3.10/dist-packages (from sympy->torch->fairseq) (1.3.0)\n",
            "Building wheels for collected packages: fairseq, antlr4-python3-runtime\n",
            "  Building wheel for fairseq (pyproject.toml) ... \u001b[?25l\u001b[?25hdone\n",
            "  Created wheel for fairseq: filename=fairseq-0.12.2-cp310-cp310-linux_x86_64.whl size=11291788 sha256=73305fc84c1352f4937750ea31bf10efd74502732d1e2a6986e353a25f01f6a6\n",
            "  Stored in directory: /root/.cache/pip/wheels/e4/35/55/9c66f65ec7c83fd6fbc2b9502a0ac81b2448a1196159dacc32\n",
            "  Building wheel for antlr4-python3-runtime (setup.py) ... \u001b[?25l\u001b[?25hdone\n",
            "  Created wheel for antlr4-python3-runtime: filename=antlr4_python3_runtime-4.8-py3-none-any.whl size=141211 sha256=2dc33bb83aab8c634d1f6e7d4508187c8e68921ed45d48f4157cbb6ae151534c\n",
            "  Stored in directory: /root/.cache/pip/wheels/a7/20/bd/e1477d664f22d99989fd28ee1a43d6633dddb5cb9e801350d5\n",
            "Successfully built fairseq antlr4-python3-runtime\n",
            "Installing collected packages: bitarray, antlr4-python3-runtime, portalocker, omegaconf, nvidia-nvtx-cu12, nvidia-nvjitlink-cu12, nvidia-nccl-cu12, nvidia-curand-cu12, nvidia-cufft-cu12, nvidia-cuda-runtime-cu12, nvidia-cuda-nvrtc-cu12, nvidia-cuda-cupti-cu12, nvidia-cublas-cu12, colorama, sacrebleu, nvidia-cusparse-cu12, nvidia-cudnn-cu12, hydra-core, nvidia-cusolver-cu12, fairseq\n",
            "Successfully installed antlr4-python3-runtime-4.8 bitarray-2.9.2 colorama-0.4.6 fairseq-0.12.2 hydra-core-1.0.7 nvidia-cublas-cu12-12.1.3.1 nvidia-cuda-cupti-cu12-12.1.105 nvidia-cuda-nvrtc-cu12-12.1.105 nvidia-cuda-runtime-cu12-12.1.105 nvidia-cudnn-cu12-8.9.2.26 nvidia-cufft-cu12-11.0.2.54 nvidia-curand-cu12-10.3.2.106 nvidia-cusolver-cu12-11.4.5.107 nvidia-cusparse-cu12-12.1.0.106 nvidia-nccl-cu12-2.20.5 nvidia-nvjitlink-cu12-12.5.40 nvidia-nvtx-cu12-12.1.105 omegaconf-2.0.6 portalocker-2.8.2 sacrebleu-2.4.2\n",
            "Collecting sacremoses\n",
            "  Downloading sacremoses-0.1.1-py3-none-any.whl (897 kB)\n",
            "\u001b[2K     \u001b[90m━━━━━━━━━━━━━━━━━━━━━━━━━━━━━━━━━━━━━━━━\u001b[0m \u001b[32m897.5/897.5 kB\u001b[0m \u001b[31m11.7 MB/s\u001b[0m eta \u001b[36m0:00:00\u001b[0m\n",
            "\u001b[?25hRequirement already satisfied: regex in /usr/local/lib/python3.10/dist-packages (from sacremoses) (2024.5.15)\n",
            "Requirement already satisfied: click in /usr/local/lib/python3.10/dist-packages (from sacremoses) (8.1.7)\n",
            "Requirement already satisfied: joblib in /usr/local/lib/python3.10/dist-packages (from sacremoses) (1.4.2)\n",
            "Requirement already satisfied: tqdm in /usr/local/lib/python3.10/dist-packages (from sacremoses) (4.66.4)\n",
            "Installing collected packages: sacremoses\n",
            "Successfully installed sacremoses-0.1.1\n",
            "Requirement already satisfied: sentencepiece in /usr/local/lib/python3.10/dist-packages (0.1.99)\n",
            "Collecting unbabel-comet\n",
            "  Downloading unbabel_comet-2.2.2-py3-none-any.whl (93 kB)\n",
            "\u001b[2K     \u001b[90m━━━━━━━━━━━━━━━━━━━━━━━━━━━━━━━━━━━━━━━━\u001b[0m \u001b[32m93.1/93.1 kB\u001b[0m \u001b[31m2.2 MB/s\u001b[0m eta \u001b[36m0:00:00\u001b[0m\n",
            "\u001b[?25hCollecting entmax<2.0,>=1.1 (from unbabel-comet)\n",
            "  Downloading entmax-1.3-py3-none-any.whl (13 kB)\n",
            "Requirement already satisfied: huggingface-hub<1.0,>=0.19.3 in /usr/local/lib/python3.10/dist-packages (from unbabel-comet) (0.23.1)\n",
            "Collecting jsonargparse==3.13.1 (from unbabel-comet)\n",
            "  Downloading jsonargparse-3.13.1-py3-none-any.whl (101 kB)\n",
            "\u001b[2K     \u001b[90m━━━━━━━━━━━━━━━━━━━━━━━━━━━━━━━━━━━━━━━━\u001b[0m \u001b[32m101.4/101.4 kB\u001b[0m \u001b[31m5.0 MB/s\u001b[0m eta \u001b[36m0:00:00\u001b[0m\n",
            "\u001b[?25hRequirement already satisfied: numpy<2.0.0,>=1.20.0 in /usr/local/lib/python3.10/dist-packages (from unbabel-comet) (1.25.2)\n",
            "Requirement already satisfied: pandas>=1.4.1 in /usr/local/lib/python3.10/dist-packages (from unbabel-comet) (2.0.3)\n",
            "Collecting protobuf<5.0.0,>=4.24.4 (from unbabel-comet)\n",
            "  Downloading protobuf-4.25.3-cp37-abi3-manylinux2014_x86_64.whl (294 kB)\n",
            "\u001b[2K     \u001b[90m━━━━━━━━━━━━━━━━━━━━━━━━━━━━━━━━━━━━━━━━\u001b[0m \u001b[32m294.6/294.6 kB\u001b[0m \u001b[31m13.7 MB/s\u001b[0m eta \u001b[36m0:00:00\u001b[0m\n",
            "\u001b[?25hCollecting pytorch-lightning<3.0.0,>=2.0.0 (from unbabel-comet)\n",
            "  Downloading pytorch_lightning-2.2.5-py3-none-any.whl (802 kB)\n",
            "\u001b[2K     \u001b[90m━━━━━━━━━━━━━━━━━━━━━━━━━━━━━━━━━━━━━━━━\u001b[0m \u001b[32m802.3/802.3 kB\u001b[0m \u001b[31m38.7 MB/s\u001b[0m eta \u001b[36m0:00:00\u001b[0m\n",
            "\u001b[?25hRequirement already satisfied: sacrebleu<3.0.0,>=2.0.0 in /usr/local/lib/python3.10/dist-packages (from unbabel-comet) (2.4.2)\n",
            "Requirement already satisfied: scipy<2.0.0,>=1.5.4 in /usr/local/lib/python3.10/dist-packages (from unbabel-comet) (1.11.4)\n",
            "Requirement already satisfied: sentencepiece<0.2.0,>=0.1.96 in /usr/local/lib/python3.10/dist-packages (from unbabel-comet) (0.1.99)\n",
            "Requirement already satisfied: torch>=1.6.0 in /usr/local/lib/python3.10/dist-packages (from unbabel-comet) (2.3.0+cu121)\n",
            "Collecting torchmetrics<0.11.0,>=0.10.2 (from unbabel-comet)\n",
            "  Downloading torchmetrics-0.10.3-py3-none-any.whl (529 kB)\n",
            "\u001b[2K     \u001b[90m━━━━━━━━━━━━━━━━━━━━━━━━━━━━━━━━━━━━━━━━\u001b[0m \u001b[32m529.7/529.7 kB\u001b[0m \u001b[31m37.6 MB/s\u001b[0m eta \u001b[36m0:00:00\u001b[0m\n",
            "\u001b[?25hRequirement already satisfied: transformers<5.0,>=4.17 in /usr/local/lib/python3.10/dist-packages (from unbabel-comet) (4.41.1)\n",
            "Requirement already satisfied: PyYAML>=3.13 in /usr/local/lib/python3.10/dist-packages (from jsonargparse==3.13.1->unbabel-comet) (6.0.1)\n",
            "Requirement already satisfied: filelock in /usr/local/lib/python3.10/dist-packages (from huggingface-hub<1.0,>=0.19.3->unbabel-comet) (3.14.0)\n",
            "Requirement already satisfied: fsspec>=2023.5.0 in /usr/local/lib/python3.10/dist-packages (from huggingface-hub<1.0,>=0.19.3->unbabel-comet) (2023.6.0)\n",
            "Requirement already satisfied: packaging>=20.9 in /usr/local/lib/python3.10/dist-packages (from huggingface-hub<1.0,>=0.19.3->unbabel-comet) (24.0)\n",
            "Requirement already satisfied: requests in /usr/local/lib/python3.10/dist-packages (from huggingface-hub<1.0,>=0.19.3->unbabel-comet) (2.31.0)\n",
            "Requirement already satisfied: tqdm>=4.42.1 in /usr/local/lib/python3.10/dist-packages (from huggingface-hub<1.0,>=0.19.3->unbabel-comet) (4.66.4)\n",
            "Requirement already satisfied: typing-extensions>=3.7.4.3 in /usr/local/lib/python3.10/dist-packages (from huggingface-hub<1.0,>=0.19.3->unbabel-comet) (4.11.0)\n",
            "Requirement already satisfied: python-dateutil>=2.8.2 in /usr/local/lib/python3.10/dist-packages (from pandas>=1.4.1->unbabel-comet) (2.8.2)\n",
            "Requirement already satisfied: pytz>=2020.1 in /usr/local/lib/python3.10/dist-packages (from pandas>=1.4.1->unbabel-comet) (2023.4)\n",
            "Requirement already satisfied: tzdata>=2022.1 in /usr/local/lib/python3.10/dist-packages (from pandas>=1.4.1->unbabel-comet) (2024.1)\n",
            "Collecting lightning-utilities>=0.8.0 (from pytorch-lightning<3.0.0,>=2.0.0->unbabel-comet)\n",
            "  Downloading lightning_utilities-0.11.2-py3-none-any.whl (26 kB)\n",
            "Requirement already satisfied: portalocker in /usr/local/lib/python3.10/dist-packages (from sacrebleu<3.0.0,>=2.0.0->unbabel-comet) (2.8.2)\n",
            "Requirement already satisfied: regex in /usr/local/lib/python3.10/dist-packages (from sacrebleu<3.0.0,>=2.0.0->unbabel-comet) (2024.5.15)\n",
            "Requirement already satisfied: tabulate>=0.8.9 in /usr/local/lib/python3.10/dist-packages (from sacrebleu<3.0.0,>=2.0.0->unbabel-comet) (0.9.0)\n",
            "Requirement already satisfied: colorama in /usr/local/lib/python3.10/dist-packages (from sacrebleu<3.0.0,>=2.0.0->unbabel-comet) (0.4.6)\n",
            "Requirement already satisfied: lxml in /usr/local/lib/python3.10/dist-packages (from sacrebleu<3.0.0,>=2.0.0->unbabel-comet) (4.9.4)\n",
            "Requirement already satisfied: sympy in /usr/local/lib/python3.10/dist-packages (from torch>=1.6.0->unbabel-comet) (1.12)\n",
            "Requirement already satisfied: networkx in /usr/local/lib/python3.10/dist-packages (from torch>=1.6.0->unbabel-comet) (3.3)\n",
            "Requirement already satisfied: jinja2 in /usr/local/lib/python3.10/dist-packages (from torch>=1.6.0->unbabel-comet) (3.1.4)\n",
            "Requirement already satisfied: nvidia-cuda-nvrtc-cu12==12.1.105 in /usr/local/lib/python3.10/dist-packages (from torch>=1.6.0->unbabel-comet) (12.1.105)\n",
            "Requirement already satisfied: nvidia-cuda-runtime-cu12==12.1.105 in /usr/local/lib/python3.10/dist-packages (from torch>=1.6.0->unbabel-comet) (12.1.105)\n",
            "Requirement already satisfied: nvidia-cuda-cupti-cu12==12.1.105 in /usr/local/lib/python3.10/dist-packages (from torch>=1.6.0->unbabel-comet) (12.1.105)\n",
            "Requirement already satisfied: nvidia-cudnn-cu12==8.9.2.26 in /usr/local/lib/python3.10/dist-packages (from torch>=1.6.0->unbabel-comet) (8.9.2.26)\n",
            "Requirement already satisfied: nvidia-cublas-cu12==12.1.3.1 in /usr/local/lib/python3.10/dist-packages (from torch>=1.6.0->unbabel-comet) (12.1.3.1)\n",
            "Requirement already satisfied: nvidia-cufft-cu12==11.0.2.54 in /usr/local/lib/python3.10/dist-packages (from torch>=1.6.0->unbabel-comet) (11.0.2.54)\n",
            "Requirement already satisfied: nvidia-curand-cu12==10.3.2.106 in /usr/local/lib/python3.10/dist-packages (from torch>=1.6.0->unbabel-comet) (10.3.2.106)\n",
            "Requirement already satisfied: nvidia-cusolver-cu12==11.4.5.107 in /usr/local/lib/python3.10/dist-packages (from torch>=1.6.0->unbabel-comet) (11.4.5.107)\n",
            "Requirement already satisfied: nvidia-cusparse-cu12==12.1.0.106 in /usr/local/lib/python3.10/dist-packages (from torch>=1.6.0->unbabel-comet) (12.1.0.106)\n",
            "Requirement already satisfied: nvidia-nccl-cu12==2.20.5 in /usr/local/lib/python3.10/dist-packages (from torch>=1.6.0->unbabel-comet) (2.20.5)\n",
            "Requirement already satisfied: nvidia-nvtx-cu12==12.1.105 in /usr/local/lib/python3.10/dist-packages (from torch>=1.6.0->unbabel-comet) (12.1.105)\n",
            "Requirement already satisfied: triton==2.3.0 in /usr/local/lib/python3.10/dist-packages (from torch>=1.6.0->unbabel-comet) (2.3.0)\n",
            "Requirement already satisfied: nvidia-nvjitlink-cu12 in /usr/local/lib/python3.10/dist-packages (from nvidia-cusolver-cu12==11.4.5.107->torch>=1.6.0->unbabel-comet) (12.5.40)\n",
            "Requirement already satisfied: tokenizers<0.20,>=0.19 in /usr/local/lib/python3.10/dist-packages (from transformers<5.0,>=4.17->unbabel-comet) (0.19.1)\n",
            "Requirement already satisfied: safetensors>=0.4.1 in /usr/local/lib/python3.10/dist-packages (from transformers<5.0,>=4.17->unbabel-comet) (0.4.3)\n",
            "Requirement already satisfied: aiohttp!=4.0.0a0,!=4.0.0a1 in /usr/local/lib/python3.10/dist-packages (from fsspec>=2023.5.0->huggingface-hub<1.0,>=0.19.3->unbabel-comet) (3.9.5)\n",
            "Requirement already satisfied: setuptools in /usr/local/lib/python3.10/dist-packages (from lightning-utilities>=0.8.0->pytorch-lightning<3.0.0,>=2.0.0->unbabel-comet) (67.7.2)\n",
            "Requirement already satisfied: six>=1.5 in /usr/local/lib/python3.10/dist-packages (from python-dateutil>=2.8.2->pandas>=1.4.1->unbabel-comet) (1.16.0)\n",
            "Requirement already satisfied: MarkupSafe>=2.0 in /usr/local/lib/python3.10/dist-packages (from jinja2->torch>=1.6.0->unbabel-comet) (2.1.5)\n",
            "Requirement already satisfied: charset-normalizer<4,>=2 in /usr/local/lib/python3.10/dist-packages (from requests->huggingface-hub<1.0,>=0.19.3->unbabel-comet) (3.3.2)\n",
            "Requirement already satisfied: idna<4,>=2.5 in /usr/local/lib/python3.10/dist-packages (from requests->huggingface-hub<1.0,>=0.19.3->unbabel-comet) (3.7)\n",
            "Requirement already satisfied: urllib3<3,>=1.21.1 in /usr/local/lib/python3.10/dist-packages (from requests->huggingface-hub<1.0,>=0.19.3->unbabel-comet) (2.0.7)\n",
            "Requirement already satisfied: certifi>=2017.4.17 in /usr/local/lib/python3.10/dist-packages (from requests->huggingface-hub<1.0,>=0.19.3->unbabel-comet) (2024.2.2)\n",
            "Requirement already satisfied: mpmath>=0.19 in /usr/local/lib/python3.10/dist-packages (from sympy->torch>=1.6.0->unbabel-comet) (1.3.0)\n",
            "Requirement already satisfied: aiosignal>=1.1.2 in /usr/local/lib/python3.10/dist-packages (from aiohttp!=4.0.0a0,!=4.0.0a1->fsspec>=2023.5.0->huggingface-hub<1.0,>=0.19.3->unbabel-comet) (1.3.1)\n",
            "Requirement already satisfied: attrs>=17.3.0 in /usr/local/lib/python3.10/dist-packages (from aiohttp!=4.0.0a0,!=4.0.0a1->fsspec>=2023.5.0->huggingface-hub<1.0,>=0.19.3->unbabel-comet) (23.2.0)\n",
            "Requirement already satisfied: frozenlist>=1.1.1 in /usr/local/lib/python3.10/dist-packages (from aiohttp!=4.0.0a0,!=4.0.0a1->fsspec>=2023.5.0->huggingface-hub<1.0,>=0.19.3->unbabel-comet) (1.4.1)\n",
            "Requirement already satisfied: multidict<7.0,>=4.5 in /usr/local/lib/python3.10/dist-packages (from aiohttp!=4.0.0a0,!=4.0.0a1->fsspec>=2023.5.0->huggingface-hub<1.0,>=0.19.3->unbabel-comet) (6.0.5)\n",
            "Requirement already satisfied: yarl<2.0,>=1.0 in /usr/local/lib/python3.10/dist-packages (from aiohttp!=4.0.0a0,!=4.0.0a1->fsspec>=2023.5.0->huggingface-hub<1.0,>=0.19.3->unbabel-comet) (1.9.4)\n",
            "Requirement already satisfied: async-timeout<5.0,>=4.0 in /usr/local/lib/python3.10/dist-packages (from aiohttp!=4.0.0a0,!=4.0.0a1->fsspec>=2023.5.0->huggingface-hub<1.0,>=0.19.3->unbabel-comet) (4.0.3)\n",
            "Installing collected packages: protobuf, lightning-utilities, jsonargparse, torchmetrics, entmax, pytorch-lightning, unbabel-comet\n",
            "  Attempting uninstall: protobuf\n",
            "    Found existing installation: protobuf 3.20.3\n",
            "    Uninstalling protobuf-3.20.3:\n",
            "      Successfully uninstalled protobuf-3.20.3\n",
            "\u001b[31mERROR: pip's dependency resolver does not currently take into account all the packages that are installed. This behaviour is the source of the following dependency conflicts.\n",
            "tensorflow-metadata 1.15.0 requires protobuf<4.21,>=3.20.3; python_version < \"3.11\", but you have protobuf 4.25.3 which is incompatible.\u001b[0m\u001b[31m\n",
            "\u001b[0mSuccessfully installed entmax-1.3 jsonargparse-3.13.1 lightning-utilities-0.11.2 protobuf-4.25.3 pytorch-lightning-2.2.5 torchmetrics-0.10.3 unbabel-comet-2.2.2\n"
          ]
        }
      ],
      "source": [
        "!pip install fairseq\n",
        "!pip install sacremoses\n",
        "!pip install sentencepiece\n",
        "!pip install unbabel-comet"
      ]
    },
    {
      "cell_type": "code",
      "execution_count": 4,
      "metadata": {
        "id": "K2X0hbVLZvp3"
      },
      "outputs": [],
      "source": [
        "def extract_hypotheses(path, num_samples):\n",
        "  \"\"\"\n",
        "  Reads the samples from a file and returns them in a nested list, where each\n",
        "  element is the list of samples for one source sentence.\n",
        "\n",
        "  Arguments:\n",
        "    path: path to file containing sampling output\n",
        "    num_samples: number of samples per source sentence\n",
        "\n",
        "  Returns:\n",
        "    hypss: list of lists of hypotheses\n",
        "  \"\"\"\n",
        "  with open(path, mode='r') as f:\n",
        "    lines = f.read().splitlines()\n",
        "  hypss = [lines[i:i + num_samples] for i in range(0, len(lines), num_samples)]\n",
        "  return hypss"
      ]
    },
    {
      "cell_type": "code",
      "execution_count": 5,
      "metadata": {
        "id": "elCtIar5PbJZ"
      },
      "outputs": [],
      "source": [
        "from tqdm import tqdm\n",
        "from sacrebleu.metrics import BLEU, CHRF\n",
        "\n",
        "def MBR_find_best(hypss, utility_function='bleu'):\n",
        "  \"\"\"\n",
        "  Finds the best hypothesis using MBR with BLEU or CHRF as utility function.\n",
        "\n",
        "  Arguments:\n",
        "    hypss: list of lists of hypotheses\n",
        "    metric: metric to use as utility function, either 'blue' or 'chrf' (uses chrf++)\n",
        "\n",
        "  Returns:\n",
        "    best_hyps: list of best hypotheses\n",
        "  \"\"\"\n",
        "  if utility_function != 'bleu' and utility_function != 'chrf':\n",
        "    raise ValueError('Available utility functions are \\'bleu\\' and \\'chrf\\'')\n",
        "\n",
        "  best_hyps = []\n",
        "\n",
        "  for hyps in tqdm(hypss):\n",
        "    if utility_function == 'bleu':\n",
        "      u = BLEU(references=[hyps]) # cache references for efficiency\n",
        "    elif utility_function == 'chrf':\n",
        "      u = CHRF(word_order=2, references=[hyps]) # CHRF++\n",
        "\n",
        "    best_hyp = \"\"\n",
        "    best_score = 0\n",
        "\n",
        "    for hyp in hyps:\n",
        "      score = u.corpus_score([hyp] * len(hyps), None).score # compute score\n",
        "      if score > best_score: # update\n",
        "        best_hyp = hyp\n",
        "        best_score = score\n",
        "    best_hyps.append(best_hyp)\n",
        "  return best_hyps"
      ]
    },
    {
      "cell_type": "markdown",
      "metadata": {
        "id": "JRX0Ihq8KbT6"
      },
      "source": [
        "## AR beam search"
      ]
    },
    {
      "cell_type": "markdown",
      "source": [
        "### Decoding"
      ],
      "metadata": {
        "id": "ksnol6_FR9X-"
      }
    },
    {
      "cell_type": "code",
      "execution_count": 9,
      "metadata": {
        "colab": {
          "base_uri": "https://localhost:8080/"
        },
        "id": "NFPkYIXTU57k",
        "outputId": "3fd376e3-a047-4958-8b2f-dba3580a3ba3"
      },
      "outputs": [
        {
          "output_type": "stream",
          "name": "stdout",
          "text": [
            "2024-05-24 21:08:47.117351: E external/local_xla/xla/stream_executor/cuda/cuda_dnn.cc:9261] Unable to register cuDNN factory: Attempting to register factory for plugin cuDNN when one has already been registered\n",
            "2024-05-24 21:08:47.117412: E external/local_xla/xla/stream_executor/cuda/cuda_fft.cc:607] Unable to register cuFFT factory: Attempting to register factory for plugin cuFFT when one has already been registered\n",
            "2024-05-24 21:08:47.246865: E external/local_xla/xla/stream_executor/cuda/cuda_blas.cc:1515] Unable to register cuBLAS factory: Attempting to register factory for plugin cuBLAS when one has already been registered\n",
            "2024-05-24 21:08:47.496478: I tensorflow/core/platform/cpu_feature_guard.cc:182] This TensorFlow binary is optimized to use available CPU instructions in performance-critical operations.\n",
            "To enable the following instructions: AVX2 FMA, in other operations, rebuild TensorFlow with the appropriate compiler flags.\n",
            "2024-05-24 21:08:49.889965: W tensorflow/compiler/tf2tensorrt/utils/py_utils.cc:38] TF-TRT Warning: Could not find TensorRT\n",
            "2024-05-24 21:08:56 | INFO | fairseq.tasks.text_to_speech | Please install tensorboardX: pip install tensorboardX\n",
            "2024-05-24 21:08:58 | INFO | fairseq_cli.interactive | {'_name': None, 'common': {'_name': None, 'no_progress_bar': False, 'log_interval': 100, 'log_format': None, 'log_file': None, 'aim_repo': None, 'aim_run_hash': None, 'tensorboard_logdir': None, 'wandb_project': None, 'azureml_logging': False, 'seed': 1, 'cpu': False, 'tpu': False, 'bf16': False, 'memory_efficient_bf16': False, 'fp16': False, 'memory_efficient_fp16': False, 'fp16_no_flatten_grads': False, 'fp16_init_scale': 128, 'fp16_scale_window': None, 'fp16_scale_tolerance': 0.0, 'on_cpu_convert_precision': False, 'min_loss_scale': 0.0001, 'threshold_loss_scale': None, 'amp': False, 'amp_batch_retries': 2, 'amp_init_scale': 128, 'amp_scale_window': None, 'user_dir': None, 'empty_cache_freq': 0, 'all_gather_list_size': 16384, 'model_parallel_size': 1, 'quantization_config_path': None, 'profile': False, 'reset_logging': False, 'suppress_crashes': False, 'use_plasma_view': False, 'plasma_path': '/tmp/plasma'}, 'common_eval': {'_name': None, 'path': '/content/drive/MyDrive/NLP2-ET-2024/data_and_model/ro_en_checkpoint_best.pt', 'post_process': None, 'quiet': False, 'model_overrides': '{}', 'results_path': None}, 'distributed_training': {'_name': None, 'distributed_world_size': 1, 'distributed_num_procs': 1, 'distributed_rank': 0, 'distributed_backend': 'nccl', 'distributed_init_method': None, 'distributed_port': -1, 'device_id': 0, 'distributed_no_spawn': False, 'ddp_backend': 'pytorch_ddp', 'ddp_comm_hook': 'none', 'bucket_cap_mb': 25, 'fix_batches_to_gpus': False, 'find_unused_parameters': False, 'gradient_as_bucket_view': False, 'fast_stat_sync': False, 'heartbeat_timeout': -1, 'broadcast_buffers': False, 'slowmo_momentum': None, 'slowmo_base_algorithm': 'localsgd', 'localsgd_frequency': 3, 'nprocs_per_node': 1, 'pipeline_model_parallel': False, 'pipeline_balance': None, 'pipeline_devices': None, 'pipeline_chunks': 0, 'pipeline_encoder_balance': None, 'pipeline_encoder_devices': None, 'pipeline_decoder_balance': None, 'pipeline_decoder_devices': None, 'pipeline_checkpoint': 'never', 'zero_sharding': 'none', 'fp16': False, 'memory_efficient_fp16': False, 'tpu': False, 'no_reshard_after_forward': False, 'fp32_reduce_scatter': False, 'cpu_offload': False, 'use_sharded_state': False, 'not_fsdp_flatten_parameters': False}, 'dataset': {'_name': None, 'num_workers': 1, 'skip_invalid_size_inputs_valid_test': False, 'max_tokens': None, 'batch_size': 1, 'required_batch_size_multiple': 8, 'required_seq_len_multiple': 1, 'dataset_impl': None, 'data_buffer_size': 10, 'train_subset': 'train', 'valid_subset': 'valid', 'combine_valid_subsets': None, 'ignore_unused_valid_subsets': False, 'validate_interval': 1, 'validate_interval_updates': 0, 'validate_after_updates': 0, 'fixed_validation_seed': None, 'disable_validation': False, 'max_tokens_valid': None, 'batch_size_valid': None, 'max_valid_steps': None, 'curriculum': 0, 'gen_subset': 'test', 'num_shards': 1, 'shard_id': 0, 'grouped_shuffling': False, 'update_epoch_batch_itr': False, 'update_ordered_indices_seed': False}, 'optimization': {'_name': None, 'max_epoch': 0, 'max_update': 0, 'stop_time_hours': 0.0, 'clip_norm': 0.0, 'sentence_avg': False, 'update_freq': [1], 'lr': [0.25], 'stop_min_lr': -1.0, 'use_bmuf': False, 'skip_remainder_batch': False}, 'checkpoint': {'_name': None, 'save_dir': 'checkpoints', 'restore_file': 'checkpoint_last.pt', 'continue_once': None, 'finetune_from_model': None, 'reset_dataloader': False, 'reset_lr_scheduler': False, 'reset_meters': False, 'reset_optimizer': False, 'optimizer_overrides': '{}', 'save_interval': 1, 'save_interval_updates': 0, 'keep_interval_updates': -1, 'keep_interval_updates_pattern': -1, 'keep_last_epochs': -1, 'keep_best_checkpoints': -1, 'no_save': False, 'no_epoch_checkpoints': False, 'no_last_checkpoints': False, 'no_save_optimizer_state': False, 'best_checkpoint_metric': 'loss', 'maximize_best_checkpoint_metric': False, 'patience': -1, 'checkpoint_suffix': '', 'checkpoint_shard_count': 1, 'load_checkpoint_on_all_dp_ranks': False, 'write_checkpoints_asynchronously': False, 'model_parallel_size': 1}, 'bmuf': {'_name': None, 'block_lr': 1.0, 'block_momentum': 0.875, 'global_sync_iter': 50, 'warmup_iterations': 500, 'use_nbm': False, 'average_sync': False, 'distributed_world_size': 1}, 'generation': {'_name': None, 'beam': 5, 'nbest': 1, 'max_len_a': 0.0, 'max_len_b': 200, 'min_len': 1, 'match_source_len': False, 'unnormalized': False, 'no_early_stop': False, 'no_beamable_mm': False, 'lenpen': 1.0, 'unkpen': 0.0, 'replace_unk': None, 'sacrebleu': False, 'score_reference': False, 'prefix_size': 0, 'no_repeat_ngram_size': 0, 'sampling': False, 'sampling_topk': -1, 'sampling_topp': -1.0, 'constraints': None, 'temperature': 1.0, 'diverse_beam_groups': -1, 'diverse_beam_strength': 0.5, 'diversity_rate': -1.0, 'print_alignment': None, 'print_step': False, 'lm_path': None, 'lm_weight': 0.0, 'iter_decode_eos_penalty': 0.0, 'iter_decode_max_iter': 10, 'iter_decode_force_max_iter': False, 'iter_decode_with_beam': 1, 'iter_decode_with_external_reranker': False, 'retain_iter_history': False, 'retain_dropout': False, 'retain_dropout_modules': None, 'decoding_format': None, 'no_seed_provided': False, 'eos_token': None}, 'eval_lm': {'_name': None, 'output_word_probs': False, 'output_word_stats': False, 'context_window': 0, 'softmax_batch': 9223372036854775807}, 'interactive': {'_name': None, 'buffer_size': 1, 'input': '/content/drive/MyDrive/NLP2-ET-2024/data_and_model/newstest2016.tok.tc.spm.ro'}, 'model': None, 'task': {'_name': 'translation', 'data': '/content/drive/MyDrive/NLP2-ET-2024/data_and_model/fairseq-data-roen', 'source_lang': None, 'target_lang': None, 'load_alignments': False, 'left_pad_source': True, 'left_pad_target': False, 'max_source_positions': 1024, 'max_target_positions': 1024, 'upsample_primary': -1, 'truncate_source': False, 'num_batch_buckets': 0, 'train_subset': 'train', 'dataset_impl': None, 'required_seq_len_multiple': 1, 'eval_bleu': False, 'eval_bleu_args': '{}', 'eval_bleu_detok': 'space', 'eval_bleu_detok_args': '{}', 'eval_tokenized_bleu': False, 'eval_bleu_remove_bpe': None, 'eval_bleu_print_samples': False}, 'criterion': {'_name': 'cross_entropy', 'sentence_avg': True}, 'optimizer': None, 'lr_scheduler': {'_name': 'fixed', 'force_anneal': None, 'lr_shrink': 0.1, 'warmup_updates': 0, 'lr': [0.25]}, 'scoring': {'_name': 'bleu', 'pad': 1, 'eos': 2, 'unk': 3}, 'bpe': None, 'tokenizer': None, 'ema': {'_name': None, 'store_ema': False, 'ema_decay': 0.9999, 'ema_start_update': 0, 'ema_seed_model': None, 'ema_update_freq': 1, 'ema_fp32': False}}\n",
            "2024-05-24 21:08:58 | INFO | fairseq.tasks.translation | [ro] dictionary: 28320 types\n",
            "2024-05-24 21:08:58 | INFO | fairseq.tasks.translation | [en] dictionary: 27512 types\n",
            "2024-05-24 21:08:58 | INFO | fairseq_cli.interactive | loading model(s) from /content/drive/MyDrive/NLP2-ET-2024/data_and_model/ro_en_checkpoint_best.pt\n",
            "2024-05-24 21:09:05 | INFO | fairseq_cli.interactive | NOTE: hypothesis and token scores are output in base 2\n",
            "2024-05-24 21:09:05 | INFO | fairseq_cli.interactive | Type the input sentence and press return:\n",
            "0it [00:00, ?it/s]/usr/local/lib/python3.10/dist-packages/fairseq/models/transformer/transformer_encoder.py:281: UserWarning: The PyTorch API of nested tensors is in prototype stage and will change in the near future. (Triggered internally at ../aten/src/ATen/NestedTensorImpl.cpp:178.)\n",
            "  x = torch._nested_tensor_from_mask(\n",
            "1999it [12:07,  2.75it/s]\n",
            "2024-05-24 21:21:13 | INFO | fairseq_cli.interactive | Total time: 734.975 seconds; translation time: 712.560\n"
          ]
        }
      ],
      "source": [
        "!python decode_interactive.py /content/drive/MyDrive/NLP2-ET-2024/data_and_model/fairseq-data-roen \\\n",
        "--beam 5 \\\n",
        "--path /content/drive/MyDrive/NLP2-ET-2024/data_and_model/ro_en_checkpoint_best.pt \\\n",
        "--input /content/drive/MyDrive/NLP2-ET-2024/data_and_model/newstest2016.tok.tc.spm.ro \\\n",
        "> /content/drive/MyDrive/NLP2-ET-2024/data_and_model/eval/ar_output_beam_tokenized.txt"
      ]
    },
    {
      "cell_type": "markdown",
      "metadata": {
        "id": "zOaLUqtxLFBl"
      },
      "source": [
        "### Post-processing\n",
        "\n",
        "\n",
        "1. Remove spm tokenization using `sentencepiece` library\n",
        "2. remove punctuation tokenization with `sacremoses`\n",
        "3. remove truecasing with `sacremoses`\n",
        "4. Write results into the file\n",
        "5. Remove trailing empty lines\n"
      ]
    },
    {
      "cell_type": "code",
      "source": [
        "%%bash\n",
        "python /content/drive/MyDrive/NLP2-ET-2024/data_and_model/spm_decode.py /content/drive/MyDrive/NLP2-ET-2024/data_and_model/eval/ar_output_beam_tokenized.txt /content/drive/MyDrive/NLP2-ET-2024/data_and_model/sentence.bpe.model | \\\n",
        "sacremoses -l en detokenize | \\\n",
        "sacremoses -l en detruecase > /content/drive/MyDrive/NLP2-ET-2024/data_and_model/eval/ar_output_beam.txt\n",
        "\n",
        "wc -l /content/drive/MyDrive/NLP2-ET-2024/data_and_model/eval/ar_output_beam.txt\n",
        "sed -i -e :a -e '/^\\n*$/{$d;N;ba' -e '}' /content/drive/MyDrive/NLP2-ET-2024/data_and_model/eval/ar_output_beam.txt\n",
        "wc -l /content/drive/MyDrive/NLP2-ET-2024/data_and_model/eval/ar_output_beam.txt"
      ],
      "metadata": {
        "colab": {
          "base_uri": "https://localhost:8080/"
        },
        "id": "uPpkgm632XcP",
        "outputId": "babaeaf0-d2b3-4bfa-9c7c-f69afc4ed966"
      },
      "execution_count": 10,
      "outputs": [
        {
          "output_type": "stream",
          "name": "stdout",
          "text": [
            "2000 /content/drive/MyDrive/NLP2-ET-2024/data_and_model/eval/ar_output_beam.txt\n",
            "1999 /content/drive/MyDrive/NLP2-ET-2024/data_and_model/eval/ar_output_beam.txt\n"
          ]
        }
      ]
    },
    {
      "cell_type": "markdown",
      "metadata": {
        "id": "Og4KpikcXEcd"
      },
      "source": [
        "## AR MBR"
      ]
    },
    {
      "cell_type": "markdown",
      "source": [
        "### Sampling"
      ],
      "metadata": {
        "id": "u9KEeokuSDVQ"
      }
    },
    {
      "cell_type": "code",
      "execution_count": 16,
      "metadata": {
        "colab": {
          "base_uri": "https://localhost:8080/"
        },
        "id": "OkQy-QBso9K4",
        "outputId": "0f605f68-7d44-4849-cf1b-984a43099267"
      },
      "outputs": [
        {
          "output_type": "stream",
          "name": "stdout",
          "text": [
            "2024-05-24 21:26:07.810383: E external/local_xla/xla/stream_executor/cuda/cuda_dnn.cc:9261] Unable to register cuDNN factory: Attempting to register factory for plugin cuDNN when one has already been registered\n",
            "2024-05-24 21:26:07.810445: E external/local_xla/xla/stream_executor/cuda/cuda_fft.cc:607] Unable to register cuFFT factory: Attempting to register factory for plugin cuFFT when one has already been registered\n",
            "2024-05-24 21:26:07.954393: E external/local_xla/xla/stream_executor/cuda/cuda_blas.cc:1515] Unable to register cuBLAS factory: Attempting to register factory for plugin cuBLAS when one has already been registered\n",
            "2024-05-24 21:26:08.219326: I tensorflow/core/platform/cpu_feature_guard.cc:182] This TensorFlow binary is optimized to use available CPU instructions in performance-critical operations.\n",
            "To enable the following instructions: AVX2 FMA, in other operations, rebuild TensorFlow with the appropriate compiler flags.\n",
            "2024-05-24 21:26:10.825729: W tensorflow/compiler/tf2tensorrt/utils/py_utils.cc:38] TF-TRT Warning: Could not find TensorRT\n",
            "2024-05-24 21:26:14 | INFO | fairseq.tasks.text_to_speech | Please install tensorboardX: pip install tensorboardX\n",
            "2024-05-24 21:26:16 | INFO | fairseq_cli.interactive | {'_name': None, 'common': {'_name': None, 'no_progress_bar': False, 'log_interval': 100, 'log_format': None, 'log_file': None, 'aim_repo': None, 'aim_run_hash': None, 'tensorboard_logdir': None, 'wandb_project': None, 'azureml_logging': False, 'seed': 1, 'cpu': False, 'tpu': False, 'bf16': False, 'memory_efficient_bf16': False, 'fp16': False, 'memory_efficient_fp16': False, 'fp16_no_flatten_grads': False, 'fp16_init_scale': 128, 'fp16_scale_window': None, 'fp16_scale_tolerance': 0.0, 'on_cpu_convert_precision': False, 'min_loss_scale': 0.0001, 'threshold_loss_scale': None, 'amp': False, 'amp_batch_retries': 2, 'amp_init_scale': 128, 'amp_scale_window': None, 'user_dir': None, 'empty_cache_freq': 0, 'all_gather_list_size': 16384, 'model_parallel_size': 1, 'quantization_config_path': None, 'profile': False, 'reset_logging': False, 'suppress_crashes': False, 'use_plasma_view': False, 'plasma_path': '/tmp/plasma'}, 'common_eval': {'_name': None, 'path': '/content/drive/MyDrive/NLP2-ET-2024/data_and_model/ro_en_checkpoint_best.pt', 'post_process': None, 'quiet': False, 'model_overrides': '{}', 'results_path': None}, 'distributed_training': {'_name': None, 'distributed_world_size': 1, 'distributed_num_procs': 1, 'distributed_rank': 0, 'distributed_backend': 'nccl', 'distributed_init_method': None, 'distributed_port': -1, 'device_id': 0, 'distributed_no_spawn': False, 'ddp_backend': 'pytorch_ddp', 'ddp_comm_hook': 'none', 'bucket_cap_mb': 25, 'fix_batches_to_gpus': False, 'find_unused_parameters': False, 'gradient_as_bucket_view': False, 'fast_stat_sync': False, 'heartbeat_timeout': -1, 'broadcast_buffers': False, 'slowmo_momentum': None, 'slowmo_base_algorithm': 'localsgd', 'localsgd_frequency': 3, 'nprocs_per_node': 1, 'pipeline_model_parallel': False, 'pipeline_balance': None, 'pipeline_devices': None, 'pipeline_chunks': 0, 'pipeline_encoder_balance': None, 'pipeline_encoder_devices': None, 'pipeline_decoder_balance': None, 'pipeline_decoder_devices': None, 'pipeline_checkpoint': 'never', 'zero_sharding': 'none', 'fp16': False, 'memory_efficient_fp16': False, 'tpu': False, 'no_reshard_after_forward': False, 'fp32_reduce_scatter': False, 'cpu_offload': False, 'use_sharded_state': False, 'not_fsdp_flatten_parameters': False}, 'dataset': {'_name': None, 'num_workers': 1, 'skip_invalid_size_inputs_valid_test': False, 'max_tokens': None, 'batch_size': 1, 'required_batch_size_multiple': 8, 'required_seq_len_multiple': 1, 'dataset_impl': None, 'data_buffer_size': 10, 'train_subset': 'train', 'valid_subset': 'valid', 'combine_valid_subsets': None, 'ignore_unused_valid_subsets': False, 'validate_interval': 1, 'validate_interval_updates': 0, 'validate_after_updates': 0, 'fixed_validation_seed': None, 'disable_validation': False, 'max_tokens_valid': None, 'batch_size_valid': None, 'max_valid_steps': None, 'curriculum': 0, 'gen_subset': 'test', 'num_shards': 1, 'shard_id': 0, 'grouped_shuffling': False, 'update_epoch_batch_itr': False, 'update_ordered_indices_seed': False}, 'optimization': {'_name': None, 'max_epoch': 0, 'max_update': 0, 'stop_time_hours': 0.0, 'clip_norm': 0.0, 'sentence_avg': False, 'update_freq': [1], 'lr': [0.25], 'stop_min_lr': -1.0, 'use_bmuf': False, 'skip_remainder_batch': False}, 'checkpoint': {'_name': None, 'save_dir': 'checkpoints', 'restore_file': 'checkpoint_last.pt', 'continue_once': None, 'finetune_from_model': None, 'reset_dataloader': False, 'reset_lr_scheduler': False, 'reset_meters': False, 'reset_optimizer': False, 'optimizer_overrides': '{}', 'save_interval': 1, 'save_interval_updates': 0, 'keep_interval_updates': -1, 'keep_interval_updates_pattern': -1, 'keep_last_epochs': -1, 'keep_best_checkpoints': -1, 'no_save': False, 'no_epoch_checkpoints': False, 'no_last_checkpoints': False, 'no_save_optimizer_state': False, 'best_checkpoint_metric': 'loss', 'maximize_best_checkpoint_metric': False, 'patience': -1, 'checkpoint_suffix': '', 'checkpoint_shard_count': 1, 'load_checkpoint_on_all_dp_ranks': False, 'write_checkpoints_asynchronously': False, 'model_parallel_size': 1}, 'bmuf': {'_name': None, 'block_lr': 1.0, 'block_momentum': 0.875, 'global_sync_iter': 50, 'warmup_iterations': 500, 'use_nbm': False, 'average_sync': False, 'distributed_world_size': 1}, 'generation': {'_name': None, 'beam': 100, 'nbest': 100, 'max_len_a': 0.0, 'max_len_b': 200, 'min_len': 1, 'match_source_len': False, 'unnormalized': False, 'no_early_stop': False, 'no_beamable_mm': False, 'lenpen': 1.0, 'unkpen': 0.0, 'replace_unk': None, 'sacrebleu': False, 'score_reference': False, 'prefix_size': 0, 'no_repeat_ngram_size': 0, 'sampling': True, 'sampling_topk': 10, 'sampling_topp': -1.0, 'constraints': None, 'temperature': 1.0, 'diverse_beam_groups': -1, 'diverse_beam_strength': 0.5, 'diversity_rate': -1.0, 'print_alignment': None, 'print_step': False, 'lm_path': None, 'lm_weight': 0.0, 'iter_decode_eos_penalty': 0.0, 'iter_decode_max_iter': 10, 'iter_decode_force_max_iter': False, 'iter_decode_with_beam': 1, 'iter_decode_with_external_reranker': False, 'retain_iter_history': False, 'retain_dropout': False, 'retain_dropout_modules': None, 'decoding_format': None, 'no_seed_provided': False, 'eos_token': None}, 'eval_lm': {'_name': None, 'output_word_probs': False, 'output_word_stats': False, 'context_window': 0, 'softmax_batch': 9223372036854775807}, 'interactive': {'_name': None, 'buffer_size': 1, 'input': '/content/drive/MyDrive/NLP2-ET-2024/data_and_model/newstest2016.tok.tc.spm.ro'}, 'model': None, 'task': {'_name': 'translation', 'data': '/content/drive/MyDrive/NLP2-ET-2024/data_and_model/fairseq-data-roen', 'source_lang': None, 'target_lang': None, 'load_alignments': False, 'left_pad_source': True, 'left_pad_target': False, 'max_source_positions': 1024, 'max_target_positions': 1024, 'upsample_primary': -1, 'truncate_source': False, 'num_batch_buckets': 0, 'train_subset': 'train', 'dataset_impl': None, 'required_seq_len_multiple': 1, 'eval_bleu': False, 'eval_bleu_args': '{}', 'eval_bleu_detok': 'space', 'eval_bleu_detok_args': '{}', 'eval_tokenized_bleu': False, 'eval_bleu_remove_bpe': None, 'eval_bleu_print_samples': False}, 'criterion': {'_name': 'cross_entropy', 'sentence_avg': True}, 'optimizer': None, 'lr_scheduler': {'_name': 'fixed', 'force_anneal': None, 'lr_shrink': 0.1, 'warmup_updates': 0, 'lr': [0.25]}, 'scoring': {'_name': 'bleu', 'pad': 1, 'eos': 2, 'unk': 3}, 'bpe': None, 'tokenizer': None, 'ema': {'_name': None, 'store_ema': False, 'ema_decay': 0.9999, 'ema_start_update': 0, 'ema_seed_model': None, 'ema_update_freq': 1, 'ema_fp32': False}}\n",
            "2024-05-24 21:26:16 | INFO | fairseq.tasks.translation | [ro] dictionary: 28320 types\n",
            "2024-05-24 21:26:16 | INFO | fairseq.tasks.translation | [en] dictionary: 27512 types\n",
            "2024-05-24 21:26:16 | INFO | fairseq_cli.interactive | loading model(s) from /content/drive/MyDrive/NLP2-ET-2024/data_and_model/ro_en_checkpoint_best.pt\n",
            "2024-05-24 21:26:23 | INFO | fairseq_cli.interactive | NOTE: hypothesis and token scores are output in base 2\n",
            "2024-05-24 21:26:23 | INFO | fairseq_cli.interactive | Type the input sentence and press return:\n",
            "0it [00:00, ?it/s]/usr/local/lib/python3.10/dist-packages/fairseq/models/transformer/transformer_encoder.py:281: UserWarning: The PyTorch API of nested tensors is in prototype stage and will change in the near future. (Triggered internally at ../aten/src/ATen/NestedTensorImpl.cpp:178.)\n",
            "  x = torch._nested_tensor_from_mask(\n",
            "1999it [20:47,  1.60it/s]\n",
            "2024-05-24 21:47:11 | INFO | fairseq_cli.interactive | Total time: 1254.848 seconds; translation time: 1020.487\n"
          ]
        }
      ],
      "source": [
        "!python decode_interactive.py /content/drive/MyDrive/NLP2-ET-2024/data_and_model/fairseq-data-roen \\\n",
        "--beam 100 \\\n",
        "--sampling \\\n",
        "--sampling-topk 10 \\\n",
        "--nbest 100 \\\n",
        "--path /content/drive/MyDrive/NLP2-ET-2024/data_and_model/ro_en_checkpoint_best.pt \\\n",
        "--input /content/drive/MyDrive/NLP2-ET-2024/data_and_model/newstest2016.tok.tc.spm.ro \\\n",
        "--temperature 1.0 \\\n",
        "> /content/drive/MyDrive/NLP2-ET-2024/data_and_model/eval/ar_output_sampling_tokenized.txt"
      ]
    },
    {
      "cell_type": "markdown",
      "metadata": {
        "id": "c-asoSxfZwPg"
      },
      "source": [
        "### Post-processing"
      ]
    },
    {
      "cell_type": "code",
      "source": [
        "%%bash\n",
        "python /content/drive/MyDrive/NLP2-ET-2024/data_and_model/spm_decode.py /content/drive/MyDrive/NLP2-ET-2024/data_and_model/eval/ar_output_sampling_tokenized.txt /content/drive/MyDrive/NLP2-ET-2024/data_and_model/sentence.bpe.model | \\\n",
        "sacremoses -l en detokenize | \\\n",
        "sacremoses -l en detruecase > /content/drive/MyDrive/NLP2-ET-2024/data_and_model/eval/ar_output_sampling.txt\n",
        "\n",
        "wc -l /content/drive/MyDrive/NLP2-ET-2024/data_and_model/eval/ar_output_sampling.txt\n",
        "sed -i -e :a -e '/^\\n*$/{$d;N;ba' -e '}' /content/drive/MyDrive/NLP2-ET-2024/data_and_model/eval/ar_output_sampling.txt\n",
        "wc -l /content/drive/MyDrive/NLP2-ET-2024/data_and_model/eval/ar_output_sampling.txt"
      ],
      "metadata": {
        "colab": {
          "base_uri": "https://localhost:8080/"
        },
        "id": "McFiR5Z679tU",
        "outputId": "91944fa0-121c-483a-cb95-86f5d3f56f7a"
      },
      "execution_count": 17,
      "outputs": [
        {
          "output_type": "stream",
          "name": "stdout",
          "text": [
            "199901 /content/drive/MyDrive/NLP2-ET-2024/data_and_model/eval/ar_output_sampling.txt\n",
            "199900 /content/drive/MyDrive/NLP2-ET-2024/data_and_model/eval/ar_output_sampling.txt\n"
          ]
        }
      ]
    },
    {
      "cell_type": "markdown",
      "source": [
        "### Hypothesis selection"
      ],
      "metadata": {
        "id": "BSMOSncbS64j"
      }
    },
    {
      "cell_type": "markdown",
      "source": [
        "#### BLEU"
      ],
      "metadata": {
        "id": "ZjR0ZMvYTI-s"
      }
    },
    {
      "cell_type": "code",
      "source": [
        "hypss = extract_hypotheses('/content/drive/MyDrive/NLP2-ET-2024/data_and_model/eval/ar_output_sampling.txt', 100)\n",
        "best_hyps = MBR_find_best(hypss, 'bleu')\n",
        "with open('/content/drive/MyDrive/NLP2-ET-2024/data_and_model/eval/ar_output_bleu.txt', mode='w') as f:\n",
        "  f.write('\\n'.join(best_hyps) + '\\n')"
      ],
      "metadata": {
        "colab": {
          "base_uri": "https://localhost:8080/"
        },
        "id": "1JEZGPLqCdnu",
        "outputId": "2d7e7f57-ead2-46b2-a787-41ed5b4a57e5"
      },
      "execution_count": 61,
      "outputs": [
        {
          "output_type": "stream",
          "name": "stderr",
          "text": [
            "100%|██████████| 1999/1999 [30:01<00:00,  1.11it/s]\n"
          ]
        }
      ]
    },
    {
      "cell_type": "markdown",
      "source": [
        "#### CHRF++"
      ],
      "metadata": {
        "id": "TUn2AQTQTXLa"
      }
    },
    {
      "cell_type": "code",
      "source": [
        "hypss = extract_hypotheses('/content/drive/MyDrive/NLP2-ET-2024/data_and_model/eval/ar_output_sampling.txt', 100)\n",
        "best_hyps = MBR_find_best(hypss, 'chrf')\n",
        "\n",
        "with open('/content/drive/MyDrive/NLP2-ET-2024/data_and_model/eval/ar_output_chrf.txt', mode='w') as f:\n",
        "  f.write('\\n'.join(best_hyps) + '\\n')"
      ],
      "metadata": {
        "colab": {
          "base_uri": "https://localhost:8080/"
        },
        "id": "5Iybr7HlTZKs",
        "outputId": "58555e23-408b-416a-cc8a-4dc4dcb70529"
      },
      "execution_count": 81,
      "outputs": [
        {
          "output_type": "stream",
          "name": "stderr",
          "text": [
            "100%|██████████| 1999/1999 [2:24:02<00:00,  4.32s/it]\n"
          ]
        }
      ]
    },
    {
      "cell_type": "markdown",
      "source": [
        "#### COMET"
      ],
      "metadata": {
        "id": "Q0toIoGvVMLK"
      }
    },
    {
      "cell_type": "code",
      "source": [
        "!comet-mbr -s /content/drive/MyDrive/NLP2-ET-2024/data_and_model/newstest2016.ro -t /content/drive/MyDrive/NLP2-ET-2024/data_and_model/eval/ar_output_sampling.txt --num_sample 100 --gpus 1 -o /content/drive/MyDrive/NLP2-ET-2024/data_and_model/eval/ar_output_comet.txt"
      ],
      "metadata": {
        "colab": {
          "base_uri": "https://localhost:8080/"
        },
        "id": "DA2N3Y8QLz5o",
        "outputId": "c547c813-be96-4ebb-d27b-d34de9d10822"
      },
      "execution_count": 18,
      "outputs": [
        {
          "output_type": "stream",
          "name": "stdout",
          "text": [
            "\rFetching 5 files:   0% 0/5 [00:00<?, ?it/s]\rFetching 5 files: 100% 5/5 [00:00<00:00, 62230.03it/s]\n",
            "Lightning automatically upgraded your loaded checkpoint from v1.8.3.post1 to v2.2.5. To apply the upgrade to your files permanently, run `python -m pytorch_lightning.utilities.upgrade_checkpoint ../../root/.cache/huggingface/hub/models--Unbabel--wmt22-comet-da/snapshots/371e9839ca4e213dde891b066cf3080f75ec7e72/checkpoints/model.ckpt`\n",
            "/usr/local/lib/python3.10/dist-packages/huggingface_hub/file_download.py:1132: FutureWarning: `resume_download` is deprecated and will be removed in version 1.0.0. Downloads always resume when possible. If you want to force a new download, use `force_download=True`.\n",
            "  warnings.warn(\n",
            "Encoder model frozen.\n",
            "/usr/local/lib/python3.10/dist-packages/pytorch_lightning/core/saving.py:188: Found keys that are not in the model state dict but in the checkpoint: ['encoder.model.embeddings.position_ids']\n",
            "Encoding sentences...: 100% 6247/6247 [24:57<00:00,  4.17it/s]\n",
            "MBR Scores...: 100% 1999/1999 [06:15<00:00,  5.33it/s]\n"
          ]
        }
      ]
    },
    {
      "cell_type": "markdown",
      "metadata": {
        "id": "n9K8kKTW_kZB"
      },
      "source": [
        "## NAR mask-predict\n",
        "\n",
        "In this project we use CMLM proposed in [Mask-Predict: Parallel Decoding of Conditional Masked Language Models](https://aclanthology.org/D19-1633) (Ghazvininejad et al., EMNLP-IJCNLP 2019)"
      ]
    },
    {
      "cell_type": "markdown",
      "source": [
        "### Decoding"
      ],
      "metadata": {
        "id": "PruO5K_bbUsV"
      }
    },
    {
      "cell_type": "code",
      "execution_count": 21,
      "metadata": {
        "colab": {
          "base_uri": "https://localhost:8080/"
        },
        "id": "iSo2RCDb_gS6",
        "outputId": "f7bd5ad3-13b2-43a5-a82b-6f9f2f0a8d7d"
      },
      "outputs": [
        {
          "output_type": "stream",
          "name": "stdout",
          "text": [
            "2024-05-24 22:24:26.337254: E external/local_xla/xla/stream_executor/cuda/cuda_dnn.cc:9261] Unable to register cuDNN factory: Attempting to register factory for plugin cuDNN when one has already been registered\n",
            "2024-05-24 22:24:26.337323: E external/local_xla/xla/stream_executor/cuda/cuda_fft.cc:607] Unable to register cuFFT factory: Attempting to register factory for plugin cuFFT when one has already been registered\n",
            "2024-05-24 22:24:26.338935: E external/local_xla/xla/stream_executor/cuda/cuda_blas.cc:1515] Unable to register cuBLAS factory: Attempting to register factory for plugin cuBLAS when one has already been registered\n",
            "2024-05-24 22:24:26.346611: I tensorflow/core/platform/cpu_feature_guard.cc:182] This TensorFlow binary is optimized to use available CPU instructions in performance-critical operations.\n",
            "To enable the following instructions: AVX2 FMA, in other operations, rebuild TensorFlow with the appropriate compiler flags.\n",
            "2024-05-24 22:24:27.562491: W tensorflow/compiler/tf2tensorrt/utils/py_utils.cc:38] TF-TRT Warning: Could not find TensorRT\n",
            "2024-05-24 22:24:31 | INFO | fairseq.tasks.text_to_speech | Please install tensorboardX: pip install tensorboardX\n",
            "2024-05-24 22:24:33 | INFO | fairseq_cli.interactive | {'_name': None, 'common': {'_name': None, 'no_progress_bar': False, 'log_interval': 100, 'log_format': None, 'log_file': None, 'aim_repo': None, 'aim_run_hash': None, 'tensorboard_logdir': None, 'wandb_project': None, 'azureml_logging': False, 'seed': 1, 'cpu': False, 'tpu': False, 'bf16': False, 'memory_efficient_bf16': False, 'fp16': False, 'memory_efficient_fp16': False, 'fp16_no_flatten_grads': False, 'fp16_init_scale': 128, 'fp16_scale_window': None, 'fp16_scale_tolerance': 0.0, 'on_cpu_convert_precision': False, 'min_loss_scale': 0.0001, 'threshold_loss_scale': None, 'amp': False, 'amp_batch_retries': 2, 'amp_init_scale': 128, 'amp_scale_window': None, 'user_dir': None, 'empty_cache_freq': 0, 'all_gather_list_size': 16384, 'model_parallel_size': 1, 'quantization_config_path': None, 'profile': False, 'reset_logging': False, 'suppress_crashes': False, 'use_plasma_view': False, 'plasma_path': '/tmp/plasma'}, 'common_eval': {'_name': None, 'path': '/content/drive/MyDrive/NLP2-ET-2024/data_and_model/cmlm_checkpoint_best.pt', 'post_process': None, 'quiet': False, 'model_overrides': '{}', 'results_path': None}, 'distributed_training': {'_name': None, 'distributed_world_size': 1, 'distributed_num_procs': 1, 'distributed_rank': 0, 'distributed_backend': 'nccl', 'distributed_init_method': None, 'distributed_port': -1, 'device_id': 0, 'distributed_no_spawn': False, 'ddp_backend': 'pytorch_ddp', 'ddp_comm_hook': 'none', 'bucket_cap_mb': 25, 'fix_batches_to_gpus': False, 'find_unused_parameters': False, 'gradient_as_bucket_view': False, 'fast_stat_sync': False, 'heartbeat_timeout': -1, 'broadcast_buffers': False, 'slowmo_momentum': None, 'slowmo_base_algorithm': 'localsgd', 'localsgd_frequency': 3, 'nprocs_per_node': 1, 'pipeline_model_parallel': False, 'pipeline_balance': None, 'pipeline_devices': None, 'pipeline_chunks': 0, 'pipeline_encoder_balance': None, 'pipeline_encoder_devices': None, 'pipeline_decoder_balance': None, 'pipeline_decoder_devices': None, 'pipeline_checkpoint': 'never', 'zero_sharding': 'none', 'fp16': False, 'memory_efficient_fp16': False, 'tpu': False, 'no_reshard_after_forward': False, 'fp32_reduce_scatter': False, 'cpu_offload': False, 'use_sharded_state': False, 'not_fsdp_flatten_parameters': False}, 'dataset': {'_name': None, 'num_workers': 1, 'skip_invalid_size_inputs_valid_test': False, 'max_tokens': None, 'batch_size': 1, 'required_batch_size_multiple': 8, 'required_seq_len_multiple': 1, 'dataset_impl': None, 'data_buffer_size': 10, 'train_subset': 'train', 'valid_subset': 'valid', 'combine_valid_subsets': None, 'ignore_unused_valid_subsets': False, 'validate_interval': 1, 'validate_interval_updates': 0, 'validate_after_updates': 0, 'fixed_validation_seed': None, 'disable_validation': False, 'max_tokens_valid': None, 'batch_size_valid': None, 'max_valid_steps': None, 'curriculum': 0, 'gen_subset': 'test', 'num_shards': 1, 'shard_id': 0, 'grouped_shuffling': False, 'update_epoch_batch_itr': False, 'update_ordered_indices_seed': False}, 'optimization': {'_name': None, 'max_epoch': 0, 'max_update': 0, 'stop_time_hours': 0.0, 'clip_norm': 0.0, 'sentence_avg': False, 'update_freq': [1], 'lr': [0.25], 'stop_min_lr': -1.0, 'use_bmuf': False, 'skip_remainder_batch': False}, 'checkpoint': {'_name': None, 'save_dir': 'checkpoints', 'restore_file': 'checkpoint_last.pt', 'continue_once': None, 'finetune_from_model': None, 'reset_dataloader': False, 'reset_lr_scheduler': False, 'reset_meters': False, 'reset_optimizer': False, 'optimizer_overrides': '{}', 'save_interval': 1, 'save_interval_updates': 0, 'keep_interval_updates': -1, 'keep_interval_updates_pattern': -1, 'keep_last_epochs': -1, 'keep_best_checkpoints': -1, 'no_save': False, 'no_epoch_checkpoints': False, 'no_last_checkpoints': False, 'no_save_optimizer_state': False, 'best_checkpoint_metric': 'loss', 'maximize_best_checkpoint_metric': False, 'patience': -1, 'checkpoint_suffix': '', 'checkpoint_shard_count': 1, 'load_checkpoint_on_all_dp_ranks': False, 'write_checkpoints_asynchronously': False, 'model_parallel_size': 1}, 'bmuf': {'_name': None, 'block_lr': 1.0, 'block_momentum': 0.875, 'global_sync_iter': 50, 'warmup_iterations': 500, 'use_nbm': False, 'average_sync': False, 'distributed_world_size': 1}, 'generation': {'_name': None, 'beam': 5, 'nbest': 1, 'max_len_a': 0.0, 'max_len_b': 200, 'min_len': 1, 'match_source_len': False, 'unnormalized': False, 'no_early_stop': False, 'no_beamable_mm': False, 'lenpen': 1.0, 'unkpen': 0.0, 'replace_unk': None, 'sacrebleu': False, 'score_reference': False, 'prefix_size': 0, 'no_repeat_ngram_size': 0, 'sampling': False, 'sampling_topk': -1, 'sampling_topp': -1.0, 'constraints': None, 'temperature': 1.0, 'diverse_beam_groups': -1, 'diverse_beam_strength': 0.5, 'diversity_rate': -1.0, 'print_alignment': None, 'print_step': False, 'lm_path': None, 'lm_weight': 0.0, 'iter_decode_eos_penalty': 0.0, 'iter_decode_max_iter': 4, 'iter_decode_force_max_iter': True, 'iter_decode_with_beam': 1, 'iter_decode_with_external_reranker': False, 'retain_iter_history': False, 'retain_dropout': False, 'retain_dropout_modules': None, 'decoding_format': None, 'no_seed_provided': False, 'eos_token': None}, 'eval_lm': {'_name': None, 'output_word_probs': False, 'output_word_stats': False, 'context_window': 0, 'softmax_batch': 9223372036854775807}, 'interactive': {'_name': None, 'buffer_size': 1, 'input': '/content/drive/MyDrive/NLP2-ET-2024/data_and_model/newstest2016.tok.tc.spm.ro'}, 'model': None, 'task': {'_name': 'translation_lev', 'data': '/content/drive/MyDrive/NLP2-ET-2024/data_and_model/fairseq-data-roen', 'source_lang': None, 'target_lang': None, 'load_alignments': False, 'left_pad_source': True, 'left_pad_target': False, 'max_source_positions': 1024, 'max_target_positions': 1024, 'upsample_primary': -1, 'truncate_source': False, 'num_batch_buckets': 0, 'train_subset': 'train', 'dataset_impl': None, 'required_seq_len_multiple': 1, 'eval_bleu': False, 'eval_bleu_args': '{}', 'eval_bleu_detok': 'space', 'eval_bleu_detok_args': '{}', 'eval_tokenized_bleu': False, 'eval_bleu_remove_bpe': None, 'eval_bleu_print_samples': False, 'noise': 'random_delete'}, 'criterion': {'_name': 'cross_entropy', 'sentence_avg': True}, 'optimizer': None, 'lr_scheduler': {'_name': 'fixed', 'force_anneal': None, 'lr_shrink': 0.1, 'warmup_updates': 0, 'lr': [0.25]}, 'scoring': {'_name': 'bleu', 'pad': 1, 'eos': 2, 'unk': 3}, 'bpe': None, 'tokenizer': None, 'ema': {'_name': None, 'store_ema': False, 'ema_decay': 0.9999, 'ema_start_update': 0, 'ema_seed_model': None, 'ema_update_freq': 1, 'ema_fp32': False}}\n",
            "2024-05-24 22:24:33 | INFO | fairseq.tasks.translation | [ro] dictionary: 28320 types\n",
            "2024-05-24 22:24:33 | INFO | fairseq.tasks.translation | [en] dictionary: 27512 types\n",
            "2024-05-24 22:24:33 | INFO | fairseq_cli.interactive | loading model(s) from /content/drive/MyDrive/NLP2-ET-2024/data_and_model/cmlm_checkpoint_best.pt\n",
            "2024-05-24 22:24:46 | INFO | fairseq_cli.interactive | NOTE: hypothesis and token scores are output in base 2\n",
            "2024-05-24 22:24:46 | INFO | fairseq_cli.interactive | Type the input sentence and press return:\n",
            "0it [00:00, ?it/s]/usr/local/lib/python3.10/dist-packages/fairseq/models/transformer/transformer_encoder.py:281: UserWarning: The PyTorch API of nested tensors is in prototype stage and will change in the near future. (Triggered internally at ../aten/src/ATen/NestedTensorImpl.cpp:178.)\n",
            "  x = torch._nested_tensor_from_mask(\n",
            "1999it [02:07, 15.72it/s]\n",
            "2024-05-24 22:26:54 | INFO | fairseq_cli.interactive | Total time: 141.084 seconds; translation time: 111.972\n"
          ]
        }
      ],
      "source": [
        "!python decode_interactive.py /content/drive/MyDrive/NLP2-ET-2024/data_and_model/fairseq-data-roen \\\n",
        "--task translation_lev \\\n",
        "--iter-decode-max-iter 4 \\\n",
        "--iter-decode-eos-penalty 0 \\\n",
        "--iter-decode-force-max-iter \\\n",
        "--path  /content/drive/MyDrive/NLP2-ET-2024/data_and_model/cmlm_checkpoint_best.pt \\\n",
        "--input /content/drive/MyDrive/NLP2-ET-2024/data_and_model/newstest2016.tok.tc.spm.ro \\\n",
        "> /content/drive/MyDrive/NLP2-ET-2024/data_and_model/eval/nar_output_mask_tokenized.txt"
      ]
    },
    {
      "cell_type": "markdown",
      "source": [
        "### Post-processing"
      ],
      "metadata": {
        "id": "GZAF4VIQbYya"
      }
    },
    {
      "cell_type": "code",
      "execution_count": 7,
      "metadata": {
        "colab": {
          "base_uri": "https://localhost:8080/"
        },
        "id": "tUD900qJ_oBU",
        "outputId": "59070354-b712-4b24-cfca-6968c7149066"
      },
      "outputs": [
        {
          "output_type": "stream",
          "name": "stdout",
          "text": [
            "2000 /content/drive/MyDrive/NLP2-ET-2024/data_and_model/eval/nar_output_mask.txt\n",
            "1999 /content/drive/MyDrive/NLP2-ET-2024/data_and_model/eval/nar_output_mask.txt\n"
          ]
        }
      ],
      "source": [
        "#post-processing and evaluation are the same as for AR model\n",
        "%%bash\n",
        "python /content/drive/MyDrive/NLP2-ET-2024/data_and_model/spm_decode.py /content/drive/MyDrive/NLP2-ET-2024/data_and_model/eval/nar_output_mask_tokenized.txt /content/drive/MyDrive/NLP2-ET-2024/data_and_model/sentence.bpe.model | \\\n",
        "sacremoses -l en detokenize | \\\n",
        "sacremoses -l en detruecase > /content/drive/MyDrive/NLP2-ET-2024/data_and_model/eval/nar_output_mask.txt\n",
        "\n",
        "wc -l /content/drive/MyDrive/NLP2-ET-2024/data_and_model/eval/nar_output_mask.txt\n",
        "sed -i -e :a -e '/^\\n*$/{$d;N;ba' -e '}' /content/drive/MyDrive/NLP2-ET-2024/data_and_model/eval/nar_output_mask.txt\n",
        "wc -l /content/drive/MyDrive/NLP2-ET-2024/data_and_model/eval/nar_output_mask.txt"
      ]
    },
    {
      "cell_type": "markdown",
      "source": [
        "## NAR MBR"
      ],
      "metadata": {
        "id": "h0LCH71jcwOH"
      }
    },
    {
      "cell_type": "markdown",
      "metadata": {
        "id": "sxhh3zeV_pw4"
      },
      "source": [
        "### Sampling"
      ]
    },
    {
      "cell_type": "code",
      "execution_count": 6,
      "metadata": {
        "colab": {
          "base_uri": "https://localhost:8080/"
        },
        "id": "URvLTLTgrwol",
        "outputId": "1244b44f-5ac7-4903-f3c0-739649213947"
      },
      "outputs": [
        {
          "output_type": "stream",
          "name": "stdout",
          "text": [
            "2024-05-30 17:01:25.026698: E external/local_xla/xla/stream_executor/cuda/cuda_dnn.cc:9261] Unable to register cuDNN factory: Attempting to register factory for plugin cuDNN when one has already been registered\n",
            "2024-05-30 17:01:25.026750: E external/local_xla/xla/stream_executor/cuda/cuda_fft.cc:607] Unable to register cuFFT factory: Attempting to register factory for plugin cuFFT when one has already been registered\n",
            "2024-05-30 17:01:25.028154: E external/local_xla/xla/stream_executor/cuda/cuda_blas.cc:1515] Unable to register cuBLAS factory: Attempting to register factory for plugin cuBLAS when one has already been registered\n",
            "2024-05-30 17:01:25.035994: I tensorflow/core/platform/cpu_feature_guard.cc:182] This TensorFlow binary is optimized to use available CPU instructions in performance-critical operations.\n",
            "To enable the following instructions: AVX2 AVX512F FMA, in other operations, rebuild TensorFlow with the appropriate compiler flags.\n",
            "2024-05-30 17:01:26.090809: W tensorflow/compiler/tf2tensorrt/utils/py_utils.cc:38] TF-TRT Warning: Could not find TensorRT\n",
            "2024-05-30 17:01:27 | INFO | fairseq.tasks.text_to_speech | Please install tensorboardX: pip install tensorboardX\n",
            "2024-05-30 17:01:30 | INFO | fairseq_cli.interactive | {'_name': None, 'common': {'_name': None, 'no_progress_bar': False, 'log_interval': 100, 'log_format': None, 'log_file': None, 'aim_repo': None, 'aim_run_hash': None, 'tensorboard_logdir': None, 'wandb_project': None, 'azureml_logging': False, 'seed': 1, 'cpu': False, 'tpu': False, 'bf16': False, 'memory_efficient_bf16': False, 'fp16': False, 'memory_efficient_fp16': False, 'fp16_no_flatten_grads': False, 'fp16_init_scale': 128, 'fp16_scale_window': None, 'fp16_scale_tolerance': 0.0, 'on_cpu_convert_precision': False, 'min_loss_scale': 0.0001, 'threshold_loss_scale': None, 'amp': False, 'amp_batch_retries': 2, 'amp_init_scale': 128, 'amp_scale_window': None, 'user_dir': None, 'empty_cache_freq': 0, 'all_gather_list_size': 16384, 'model_parallel_size': 1, 'quantization_config_path': None, 'profile': False, 'reset_logging': False, 'suppress_crashes': False, 'use_plasma_view': False, 'plasma_path': '/tmp/plasma'}, 'common_eval': {'_name': None, 'path': '/content/drive/MyDrive/NLP2-ET-2024/data_and_model/cmlm_checkpoint_best.pt', 'post_process': None, 'quiet': False, 'model_overrides': '{}', 'results_path': None}, 'distributed_training': {'_name': None, 'distributed_world_size': 1, 'distributed_num_procs': 1, 'distributed_rank': 0, 'distributed_backend': 'nccl', 'distributed_init_method': None, 'distributed_port': -1, 'device_id': 0, 'distributed_no_spawn': False, 'ddp_backend': 'pytorch_ddp', 'ddp_comm_hook': 'none', 'bucket_cap_mb': 25, 'fix_batches_to_gpus': False, 'find_unused_parameters': False, 'gradient_as_bucket_view': False, 'fast_stat_sync': False, 'heartbeat_timeout': -1, 'broadcast_buffers': False, 'slowmo_momentum': None, 'slowmo_base_algorithm': 'localsgd', 'localsgd_frequency': 3, 'nprocs_per_node': 1, 'pipeline_model_parallel': False, 'pipeline_balance': None, 'pipeline_devices': None, 'pipeline_chunks': 0, 'pipeline_encoder_balance': None, 'pipeline_encoder_devices': None, 'pipeline_decoder_balance': None, 'pipeline_decoder_devices': None, 'pipeline_checkpoint': 'never', 'zero_sharding': 'none', 'fp16': False, 'memory_efficient_fp16': False, 'tpu': False, 'no_reshard_after_forward': False, 'fp32_reduce_scatter': False, 'cpu_offload': False, 'use_sharded_state': False, 'not_fsdp_flatten_parameters': False}, 'dataset': {'_name': None, 'num_workers': 1, 'skip_invalid_size_inputs_valid_test': False, 'max_tokens': None, 'batch_size': 1, 'required_batch_size_multiple': 8, 'required_seq_len_multiple': 1, 'dataset_impl': None, 'data_buffer_size': 10, 'train_subset': 'train', 'valid_subset': 'valid', 'combine_valid_subsets': None, 'ignore_unused_valid_subsets': False, 'validate_interval': 1, 'validate_interval_updates': 0, 'validate_after_updates': 0, 'fixed_validation_seed': None, 'disable_validation': False, 'max_tokens_valid': None, 'batch_size_valid': None, 'max_valid_steps': None, 'curriculum': 0, 'gen_subset': 'test', 'num_shards': 1, 'shard_id': 0, 'grouped_shuffling': False, 'update_epoch_batch_itr': False, 'update_ordered_indices_seed': False}, 'optimization': {'_name': None, 'max_epoch': 0, 'max_update': 0, 'stop_time_hours': 0.0, 'clip_norm': 0.0, 'sentence_avg': False, 'update_freq': [1], 'lr': [0.25], 'stop_min_lr': -1.0, 'use_bmuf': False, 'skip_remainder_batch': False}, 'checkpoint': {'_name': None, 'save_dir': 'checkpoints', 'restore_file': 'checkpoint_last.pt', 'continue_once': None, 'finetune_from_model': None, 'reset_dataloader': False, 'reset_lr_scheduler': False, 'reset_meters': False, 'reset_optimizer': False, 'optimizer_overrides': '{}', 'save_interval': 1, 'save_interval_updates': 0, 'keep_interval_updates': -1, 'keep_interval_updates_pattern': -1, 'keep_last_epochs': -1, 'keep_best_checkpoints': -1, 'no_save': False, 'no_epoch_checkpoints': False, 'no_last_checkpoints': False, 'no_save_optimizer_state': False, 'best_checkpoint_metric': 'loss', 'maximize_best_checkpoint_metric': False, 'patience': -1, 'checkpoint_suffix': '', 'checkpoint_shard_count': 1, 'load_checkpoint_on_all_dp_ranks': False, 'write_checkpoints_asynchronously': False, 'model_parallel_size': 1}, 'bmuf': {'_name': None, 'block_lr': 1.0, 'block_momentum': 0.875, 'global_sync_iter': 50, 'warmup_iterations': 500, 'use_nbm': False, 'average_sync': False, 'distributed_world_size': 1}, 'generation': {'_name': None, 'beam': 5, 'nbest': 100, 'max_len_a': 0.0, 'max_len_b': 200, 'min_len': 1, 'match_source_len': False, 'unnormalized': False, 'no_early_stop': False, 'no_beamable_mm': False, 'lenpen': 1.0, 'unkpen': 0.0, 'replace_unk': None, 'sacrebleu': False, 'score_reference': False, 'prefix_size': 0, 'no_repeat_ngram_size': 0, 'sampling': True, 'sampling_topk': 10, 'sampling_topp': -1.0, 'constraints': None, 'temperature': 1.0, 'diverse_beam_groups': -1, 'diverse_beam_strength': 0.5, 'diversity_rate': -1.0, 'print_alignment': None, 'print_step': False, 'lm_path': None, 'lm_weight': 0.0, 'iter_decode_eos_penalty': 0.0, 'iter_decode_max_iter': 4, 'iter_decode_force_max_iter': True, 'iter_decode_with_beam': 100, 'iter_decode_with_external_reranker': False, 'retain_iter_history': False, 'retain_dropout': False, 'retain_dropout_modules': None, 'decoding_format': None, 'no_seed_provided': False, 'eos_token': None}, 'eval_lm': {'_name': None, 'output_word_probs': False, 'output_word_stats': False, 'context_window': 0, 'softmax_batch': 9223372036854775807}, 'interactive': {'_name': None, 'buffer_size': 1, 'input': '/content/drive/MyDrive/NLP2-ET-2024/data_and_model/newstest2016.tok.tc.spm.ro'}, 'model': None, 'task': {'_name': 'translation_lev', 'data': '/content/drive/MyDrive/NLP2-ET-2024/data_and_model/fairseq-data-roen', 'source_lang': None, 'target_lang': None, 'load_alignments': False, 'left_pad_source': True, 'left_pad_target': False, 'max_source_positions': 1024, 'max_target_positions': 1024, 'upsample_primary': -1, 'truncate_source': False, 'num_batch_buckets': 0, 'train_subset': 'train', 'dataset_impl': None, 'required_seq_len_multiple': 1, 'eval_bleu': False, 'eval_bleu_args': '{}', 'eval_bleu_detok': 'space', 'eval_bleu_detok_args': '{}', 'eval_tokenized_bleu': False, 'eval_bleu_remove_bpe': None, 'eval_bleu_print_samples': False, 'noise': 'random_delete'}, 'criterion': {'_name': 'cross_entropy', 'sentence_avg': True}, 'optimizer': None, 'lr_scheduler': {'_name': 'fixed', 'force_anneal': None, 'lr_shrink': 0.1, 'warmup_updates': 0, 'lr': [0.25]}, 'scoring': {'_name': 'bleu', 'pad': 1, 'eos': 2, 'unk': 3}, 'bpe': None, 'tokenizer': None, 'ema': {'_name': None, 'store_ema': False, 'ema_decay': 0.9999, 'ema_start_update': 0, 'ema_seed_model': None, 'ema_update_freq': 1, 'ema_fp32': False}}\n",
            "2024-05-30 17:01:32 | INFO | fairseq.tasks.translation | [ro] dictionary: 28320 types\n",
            "2024-05-30 17:01:32 | INFO | fairseq.tasks.translation | [en] dictionary: 27512 types\n",
            "2024-05-30 17:01:32 | INFO | fairseq_cli.interactive | loading model(s) from /content/drive/MyDrive/NLP2-ET-2024/data_and_model/cmlm_checkpoint_best.pt\n",
            "2024-05-30 17:02:03 | INFO | fairseq_cli.interactive | NOTE: hypothesis and token scores are output in base 2\n",
            "2024-05-30 17:02:03 | INFO | fairseq_cli.interactive | Type the input sentence and press return:\n",
            "0it [00:00, ?it/s]/usr/local/lib/python3.10/dist-packages/fairseq/models/transformer/transformer_encoder.py:281: UserWarning: The PyTorch API of nested tensors is in prototype stage and will change in the near future. (Triggered internally at ../aten/src/ATen/NestedTensorImpl.cpp:178.)\n",
            "  x = torch._nested_tensor_from_mask(\n",
            "1999it [27:24,  1.22it/s]\n",
            "2024-05-30 17:29:28 | INFO | fairseq_cli.interactive | Total time: 1677.689 seconds; translation time: 1417.127\n"
          ]
        }
      ],
      "source": [
        "!python decode_interactive.py /content/drive/MyDrive/NLP2-ET-2024/data_and_model/fairseq-data-roen \\\n",
        "--task translation_lev \\\n",
        "--path  /content/drive/MyDrive/NLP2-ET-2024/data_and_model/cmlm_checkpoint_best.pt \\\n",
        "--iter-decode-max-iter 4 \\\n",
        "--iter-decode-eos-penalty 0 \\\n",
        "--nbest 100 \\\n",
        "--sampling \\\n",
        "--sampling-topk 10 \\\n",
        "--input /content/drive/MyDrive/NLP2-ET-2024/data_and_model/newstest2016.tok.tc.spm.ro \\\n",
        "--temperature 1.0 \\\n",
        "--iter-decode-with-beam 100 \\\n",
        "--iter-decode-force-max-iter \\\n",
        "> /content/drive/MyDrive/NLP2-ET-2024/data_and_model/eval/nar_output_sampling_tokenized.txt"
      ]
    },
    {
      "cell_type": "markdown",
      "source": [
        "### Post-processing"
      ],
      "metadata": {
        "id": "TF1MAa4ldvuP"
      }
    },
    {
      "cell_type": "code",
      "source": [
        "%%bash\n",
        "python /content/drive/MyDrive/NLP2-ET-2024/data_and_model/spm_decode.py /content/drive/MyDrive/NLP2-ET-2024/data_and_model/eval/nar_output_sampling_tokenized.txt /content/drive/MyDrive/NLP2-ET-2024/data_and_model/sentence.bpe.model | \\\n",
        "sacremoses -l en detokenize | \\\n",
        "sacremoses -l en detruecase > /content/drive/MyDrive/NLP2-ET-2024/data_and_model/eval/nar_output_sampling.txt\n",
        "\n",
        "wc -l /content/drive/MyDrive/NLP2-ET-2024/data_and_model/eval/nar_output_sampling.txt\n",
        "sed -i -e :a -e '/^\\n*$/{$d;N;ba' -e '}' /content/drive/MyDrive/NLP2-ET-2024/data_and_model/eval/nar_output_sampling.txt\n",
        "wc -l /content/drive/MyDrive/NLP2-ET-2024/data_and_model/eval/nar_output_sampling.txt"
      ],
      "metadata": {
        "colab": {
          "base_uri": "https://localhost:8080/"
        },
        "id": "logZe7SqdxWs",
        "outputId": "1278269b-6ccd-437b-bb9d-72e3b65000b7"
      },
      "execution_count": 7,
      "outputs": [
        {
          "output_type": "stream",
          "name": "stdout",
          "text": [
            "199901 /content/drive/MyDrive/NLP2-ET-2024/data_and_model/eval/nar_output_sampling.txt\n",
            "199900 /content/drive/MyDrive/NLP2-ET-2024/data_and_model/eval/nar_output_sampling.txt\n"
          ]
        }
      ]
    },
    {
      "cell_type": "markdown",
      "source": [
        "### Hypothesis selection"
      ],
      "metadata": {
        "id": "KqnJx7BCeIyk"
      }
    },
    {
      "cell_type": "markdown",
      "source": [
        "#### BLEU"
      ],
      "metadata": {
        "id": "zmvy5wu_eKwb"
      }
    },
    {
      "cell_type": "code",
      "source": [
        "hypss = extract_hypotheses('/content/drive/MyDrive/NLP2-ET-2024/data_and_model/eval/nar_output_sampling.txt', 100)\n",
        "best_hyps = MBR_find_best(hypss, 'bleu')\n",
        "\n",
        "with open('/content/drive/MyDrive/NLP2-ET-2024/data_and_model/eval/nar_output_bleu.txt', mode='w') as f:\n",
        "  f.write('\\n'.join(best_hyps) + '\\n')"
      ],
      "metadata": {
        "colab": {
          "base_uri": "https://localhost:8080/"
        },
        "id": "t683MCVZeMRn",
        "outputId": "936ada56-4fe8-4727-b7a4-79f37c517cf3"
      },
      "execution_count": 6,
      "outputs": [
        {
          "output_type": "stream",
          "name": "stderr",
          "text": [
            "100%|██████████| 1999/1999 [30:50<00:00,  1.08it/s]\n"
          ]
        }
      ]
    },
    {
      "cell_type": "markdown",
      "source": [
        "#### CHRF++"
      ],
      "metadata": {
        "id": "ZSJdA77SejUF"
      }
    },
    {
      "cell_type": "code",
      "source": [
        "hypss = extract_hypotheses('/content/drive/MyDrive/NLP2-ET-2024/data_and_model/eval/nar_output_sampling.txt', 100)\n",
        "best_hyps = MBR_find_best(hypss, 'chrf')\n",
        "\n",
        "with open('/content/drive/MyDrive/NLP2-ET-2024/data_and_model/eval/nar_output_chrf.txt', mode='w') as f:\n",
        "  f.write('\\n'.join(best_hyps) + '\\n')"
      ],
      "metadata": {
        "colab": {
          "base_uri": "https://localhost:8080/"
        },
        "id": "QW1uerrGek5k",
        "outputId": "fe2b8fc1-29a5-4e1d-ad60-58cc8f3f4706"
      },
      "execution_count": 7,
      "outputs": [
        {
          "output_type": "stream",
          "name": "stderr",
          "text": [
            "100%|██████████| 1999/1999 [2:24:57<00:00,  4.35s/it]\n"
          ]
        }
      ]
    },
    {
      "cell_type": "markdown",
      "source": [
        "#### COMET"
      ],
      "metadata": {
        "id": "mEN0RpleelZS"
      }
    },
    {
      "cell_type": "code",
      "source": [
        "!comet-mbr -s /content/drive/MyDrive/NLP2-ET-2024/data_and_model/newstest2016.ro -t /content/drive/MyDrive/NLP2-ET-2024/data_and_model/eval/nar_output_sampling.txt --num_sample 100 --gpus 1 -o /content/drive/MyDrive/NLP2-ET-2024/data_and_model/eval/nar_output_comet.txt"
      ],
      "metadata": {
        "colab": {
          "base_uri": "https://localhost:8080/"
        },
        "id": "qnHjattpenS8",
        "outputId": "6b719a24-ead6-41d1-bd3d-038ccbf3607f"
      },
      "execution_count": 10,
      "outputs": [
        {
          "output_type": "stream",
          "name": "stdout",
          "text": [
            "\rFetching 5 files:   0% 0/5 [00:00<?, ?it/s]\rFetching 5 files: 100% 5/5 [00:00<00:00, 63743.22it/s]\n",
            "Lightning automatically upgraded your loaded checkpoint from v1.8.3.post1 to v2.2.5. To apply the upgrade to your files permanently, run `python -m pytorch_lightning.utilities.upgrade_checkpoint ../../root/.cache/huggingface/hub/models--Unbabel--wmt22-comet-da/snapshots/371e9839ca4e213dde891b066cf3080f75ec7e72/checkpoints/model.ckpt`\n",
            "/usr/local/lib/python3.10/dist-packages/huggingface_hub/file_download.py:1132: FutureWarning: `resume_download` is deprecated and will be removed in version 1.0.0. Downloads always resume when possible. If you want to force a new download, use `force_download=True`.\n",
            "  warnings.warn(\n",
            "Encoder model frozen.\n",
            "/usr/local/lib/python3.10/dist-packages/pytorch_lightning/core/saving.py:188: Found keys that are not in the model state dict but in the checkpoint: ['encoder.model.embeddings.position_ids']\n",
            "Encoding sentences...: 100% 6247/6247 [25:14<00:00,  4.13it/s]\n",
            "MBR Scores...: 100% 1999/1999 [06:37<00:00,  5.03it/s]\n"
          ]
        }
      ]
    },
    {
      "cell_type": "markdown",
      "source": [
        "## Evaluation"
      ],
      "metadata": {
        "id": "f2zYYzyYftjj"
      }
    },
    {
      "cell_type": "code",
      "source": [
        "!sacrebleu /content/drive/MyDrive/NLP2-ET-2024/data_and_model/newstest2016.en -i /content/drive/MyDrive/NLP2-ET-2024/data_and_model/eval/*ar_output_*[!dg].txt -m bleu chrf --chrf-word-order 2"
      ],
      "metadata": {
        "colab": {
          "base_uri": "https://localhost:8080/"
        },
        "id": "SWH16a0gxIcb",
        "outputId": "5502ecab-0231-47fe-8dfa-c63e75683406"
      },
      "execution_count": 8,
      "outputs": [
        {
          "output_type": "stream",
          "name": "stdout",
          "text": [
            "sacreBLEU: Found 8 systems.\n",
            "[\n",
            "    {\n",
            "        \"system\": \"/content/drive/MyDrive/NLP2-ET-2024/data_and_model/eval/ar_output_beam.txt\",\n",
            "        \"BLEU\": \"31.2\",\n",
            "        \"chrF2++\": \"55.6\"\n",
            "    },\n",
            "    {\n",
            "        \"system\": \"/content/drive/MyDrive/NLP2-ET-2024/data_and_model/eval/ar_output_bleu.txt\",\n",
            "        \"BLEU\": \"30.8\",\n",
            "        \"chrF2++\": \"55.2\"\n",
            "    },\n",
            "    {\n",
            "        \"system\": \"/content/drive/MyDrive/NLP2-ET-2024/data_and_model/eval/ar_output_chrf.txt\",\n",
            "        \"BLEU\": \"29.7\",\n",
            "        \"chrF2++\": \"55.7\"\n",
            "    },\n",
            "    {\n",
            "        \"system\": \"/content/drive/MyDrive/NLP2-ET-2024/data_and_model/eval/ar_output_comet.txt\",\n",
            "        \"BLEU\": \"29.8\",\n",
            "        \"chrF2++\": \"54.9\"\n",
            "    },\n",
            "    {\n",
            "        \"system\": \"/content/drive/MyDrive/NLP2-ET-2024/data_and_model/eval/nar_output_bleu.txt\",\n",
            "        \"BLEU\": \"28.0\",\n",
            "        \"chrF2++\": \"53.3\"\n",
            "    },\n",
            "    {\n",
            "        \"system\": \"/content/drive/MyDrive/NLP2-ET-2024/data_and_model/eval/nar_output_chrf.txt\",\n",
            "        \"BLEU\": \"27.2\",\n",
            "        \"chrF2++\": \"53.9\"\n",
            "    },\n",
            "    {\n",
            "        \"system\": \"/content/drive/MyDrive/NLP2-ET-2024/data_and_model/eval/nar_output_comet.txt\",\n",
            "        \"BLEU\": \"27.8\",\n",
            "        \"chrF2++\": \"53.6\"\n",
            "    },\n",
            "    {\n",
            "        \"system\": \"/content/drive/MyDrive/NLP2-ET-2024/data_and_model/eval/nar_output_mask.txt\",\n",
            "        \"BLEU\": \"25.1\",\n",
            "        \"chrF2++\": \"51.6\"\n",
            "    }\n",
            "]\n",
            "\u001b[0m"
          ]
        }
      ]
    },
    {
      "cell_type": "code",
      "source": [
        "!sacrebleu /content/drive/MyDrive/NLP2-ET-2024/data_and_model/newstest2016.en -i /content/drive/MyDrive/NLP2-ET-2024/data_and_model/eval/*ar_output_*[!dg].txt -m chrf ter"
      ],
      "metadata": {
        "colab": {
          "base_uri": "https://localhost:8080/"
        },
        "id": "KBBPllcW-N6-",
        "outputId": "0e006d5f-4c13-45cf-e2b2-b7e23dc29e6f"
      },
      "execution_count": 9,
      "outputs": [
        {
          "output_type": "stream",
          "name": "stdout",
          "text": [
            "sacreBLEU: Found 8 systems.\n",
            "[\n",
            "    {\n",
            "        \"system\": \"/content/drive/MyDrive/NLP2-ET-2024/data_and_model/eval/ar_output_beam.txt\",\n",
            "        \"chrF2\": \"57.5\",\n",
            "        \"TER\": \"56.1\"\n",
            "    },\n",
            "    {\n",
            "        \"system\": \"/content/drive/MyDrive/NLP2-ET-2024/data_and_model/eval/ar_output_bleu.txt\",\n",
            "        \"chrF2\": \"57.0\",\n",
            "        \"TER\": \"56.2\"\n",
            "    },\n",
            "    {\n",
            "        \"system\": \"/content/drive/MyDrive/NLP2-ET-2024/data_and_model/eval/ar_output_chrf.txt\",\n",
            "        \"chrF2\": \"57.6\",\n",
            "        \"TER\": \"58.1\"\n",
            "    },\n",
            "    {\n",
            "        \"system\": \"/content/drive/MyDrive/NLP2-ET-2024/data_and_model/eval/ar_output_comet.txt\",\n",
            "        \"chrF2\": \"56.8\",\n",
            "        \"TER\": \"56.9\"\n",
            "    },\n",
            "    {\n",
            "        \"system\": \"/content/drive/MyDrive/NLP2-ET-2024/data_and_model/eval/nar_output_bleu.txt\",\n",
            "        \"chrF2\": \"55.2\",\n",
            "        \"TER\": \"58.1\"\n",
            "    },\n",
            "    {\n",
            "        \"system\": \"/content/drive/MyDrive/NLP2-ET-2024/data_and_model/eval/nar_output_chrf.txt\",\n",
            "        \"chrF2\": \"56.0\",\n",
            "        \"TER\": \"59.7\"\n",
            "    },\n",
            "    {\n",
            "        \"system\": \"/content/drive/MyDrive/NLP2-ET-2024/data_and_model/eval/nar_output_comet.txt\",\n",
            "        \"chrF2\": \"55.6\",\n",
            "        \"TER\": \"58.0\"\n",
            "    },\n",
            "    {\n",
            "        \"system\": \"/content/drive/MyDrive/NLP2-ET-2024/data_and_model/eval/nar_output_mask.txt\",\n",
            "        \"chrF2\": \"53.7\",\n",
            "        \"TER\": \"60.7\"\n",
            "    }\n",
            "]\n",
            "\u001b[0m"
          ]
        }
      ]
    },
    {
      "cell_type": "code",
      "source": [
        "!comet-score -s /content/drive/MyDrive/NLP2-ET-2024/data_and_model/newstest2016.ro -t /content/drive/MyDrive/NLP2-ET-2024/data_and_model/eval/*ar_output_*[!dg].txt -r /content/drive/MyDrive/NLP2-ET-2024/data_and_model/newstest2016.en --only_system"
      ],
      "metadata": {
        "colab": {
          "base_uri": "https://localhost:8080/"
        },
        "id": "QYCutImHrpTE",
        "outputId": "b044ab60-c148-4be4-88f3-e3f6e25781a9"
      },
      "execution_count": 5,
      "outputs": [
        {
          "output_type": "stream",
          "name": "stdout",
          "text": [
            "Seed set to 1\n",
            "Fetching 5 files: 100% 5/5 [00:00<00:00, 72315.59it/s]\n",
            "Lightning automatically upgraded your loaded checkpoint from v1.8.3.post1 to v2.2.5. To apply the upgrade to your files permanently, run `python -m pytorch_lightning.utilities.upgrade_checkpoint ../../root/.cache/huggingface/hub/models--Unbabel--wmt22-comet-da/snapshots/371e9839ca4e213dde891b066cf3080f75ec7e72/checkpoints/model.ckpt`\n",
            "/usr/local/lib/python3.10/dist-packages/huggingface_hub/file_download.py:1132: FutureWarning: `resume_download` is deprecated and will be removed in version 1.0.0. Downloads always resume when possible. If you want to force a new download, use `force_download=True`.\n",
            "  warnings.warn(\n",
            "Encoder model frozen.\n",
            "/usr/local/lib/python3.10/dist-packages/pytorch_lightning/core/saving.py:188: Found keys that are not in the model state dict but in the checkpoint: ['encoder.model.embeddings.position_ids']\n",
            "GPU available: True (cuda), used: True\n",
            "TPU available: False, using: 0 TPU cores\n",
            "IPU available: False, using: 0 IPUs\n",
            "HPU available: False, using: 0 HPUs\n",
            "LOCAL_RANK: 0 - CUDA_VISIBLE_DEVICES: [0]\n",
            "Predicting DataLoader 0: 100% 125/125 [00:45<00:00,  2.73it/s]\n",
            "GPU available: True (cuda), used: True\n",
            "TPU available: False, using: 0 TPU cores\n",
            "IPU available: False, using: 0 IPUs\n",
            "HPU available: False, using: 0 HPUs\n",
            "LOCAL_RANK: 0 - CUDA_VISIBLE_DEVICES: [0]\n",
            "Predicting DataLoader 0: 100% 125/125 [00:46<00:00,  2.69it/s]\n",
            "GPU available: True (cuda), used: True\n",
            "TPU available: False, using: 0 TPU cores\n",
            "IPU available: False, using: 0 IPUs\n",
            "HPU available: False, using: 0 HPUs\n",
            "LOCAL_RANK: 0 - CUDA_VISIBLE_DEVICES: [0]\n",
            "Predicting DataLoader 0: 100% 125/125 [00:48<00:00,  2.55it/s]\n",
            "GPU available: True (cuda), used: True\n",
            "TPU available: False, using: 0 TPU cores\n",
            "IPU available: False, using: 0 IPUs\n",
            "HPU available: False, using: 0 HPUs\n",
            "LOCAL_RANK: 0 - CUDA_VISIBLE_DEVICES: [0]\n",
            "Predicting DataLoader 0: 100% 125/125 [00:47<00:00,  2.61it/s]\n",
            "GPU available: True (cuda), used: True\n",
            "TPU available: False, using: 0 TPU cores\n",
            "IPU available: False, using: 0 IPUs\n",
            "HPU available: False, using: 0 HPUs\n",
            "LOCAL_RANK: 0 - CUDA_VISIBLE_DEVICES: [0]\n",
            "Predicting DataLoader 0: 100% 125/125 [00:47<00:00,  2.64it/s]\n",
            "GPU available: True (cuda), used: True\n",
            "TPU available: False, using: 0 TPU cores\n",
            "IPU available: False, using: 0 IPUs\n",
            "HPU available: False, using: 0 HPUs\n",
            "LOCAL_RANK: 0 - CUDA_VISIBLE_DEVICES: [0]\n",
            "Predicting DataLoader 0: 100% 125/125 [00:47<00:00,  2.62it/s]\n",
            "GPU available: True (cuda), used: True\n",
            "TPU available: False, using: 0 TPU cores\n",
            "IPU available: False, using: 0 IPUs\n",
            "HPU available: False, using: 0 HPUs\n",
            "LOCAL_RANK: 0 - CUDA_VISIBLE_DEVICES: [0]\n",
            "Predicting DataLoader 0: 100% 125/125 [00:47<00:00,  2.63it/s]\n",
            "GPU available: True (cuda), used: True\n",
            "TPU available: False, using: 0 TPU cores\n",
            "IPU available: False, using: 0 IPUs\n",
            "HPU available: False, using: 0 HPUs\n",
            "LOCAL_RANK: 0 - CUDA_VISIBLE_DEVICES: [0]\n",
            "Predicting DataLoader 0: 100% 125/125 [00:47<00:00,  2.63it/s]\n",
            "/content/drive/MyDrive/NLP2-ET-2024/data_and_model/eval/ar_output_beam.txt\tscore: 0.7855\n",
            "/content/drive/MyDrive/NLP2-ET-2024/data_and_model/eval/ar_output_bleu.txt\tscore: 0.7824\n",
            "/content/drive/MyDrive/NLP2-ET-2024/data_and_model/eval/ar_output_chrf.txt\tscore: 0.7814\n",
            "/content/drive/MyDrive/NLP2-ET-2024/data_and_model/eval/ar_output_comet.txt\tscore: 0.8212\n",
            "/content/drive/MyDrive/NLP2-ET-2024/data_and_model/eval/nar_output_bleu.txt\tscore: 0.7426\n",
            "/content/drive/MyDrive/NLP2-ET-2024/data_and_model/eval/nar_output_chrf.txt\tscore: 0.7444\n",
            "/content/drive/MyDrive/NLP2-ET-2024/data_and_model/eval/nar_output_comet.txt\tscore: 0.7892\n",
            "/content/drive/MyDrive/NLP2-ET-2024/data_and_model/eval/nar_output_mask.txt\tscore: 0.7208\n"
          ]
        }
      ]
    },
    {
      "cell_type": "code",
      "source": [
        "# Code in this cell courtesy of ChatGPT (with some minor adjustments)\n",
        "import matplotlib.pyplot as plt\n",
        "import numpy as np\n",
        "\n",
        "# Data from the table\n",
        "decoding_methods_AR = ['Beam search', 'MBR w/ BLEU', 'MBR w/ ChrF++', 'MBR w/ COMET']\n",
        "decoding_methods_CMLM = ['Mask-predict', 'MBR w/ BLEU', 'MBR w/ ChrF++', 'MBR w/ COMET']\n",
        "ar_scores = {\n",
        "    'BLEU': [31.2, 30.8, 29.7, 29.8],\n",
        "    'ChrF++': [55.6, 55.2, 55.7, 54.9],\n",
        "    'COMET': [78.6, 78.2, 78.1, 82.1]\n",
        "}\n",
        "cmlm_scores = {\n",
        "    'BLEU': [25.1, 28.0, 27.2, 27.8],\n",
        "    'ChrF++': [51.6, 53.3, 53.9, 53.6],\n",
        "    'COMET': [72.1, 74.3, 74.4, 78.9]\n",
        "}\n",
        "\n",
        "# Function to create bar plot for each metric\n",
        "def plot_scores(scores, model_name, methods):\n",
        "    x = np.arange(len(methods))  # label locations\n",
        "    width = 0.2  # width of the bars\n",
        "\n",
        "    fig, ax = plt.subplots(figsize=(10, 6))\n",
        "    rects1 = ax.bar(x - width, scores['BLEU'], width, label='BLEU')\n",
        "    rects2 = ax.bar(x, scores['ChrF++'], width, label='ChrF++')\n",
        "    rects3 = ax.bar(x + width, scores['COMET'], width, label='COMET')\n",
        "\n",
        "    # Add some text for labels, title, and custom x-axis tick labels, etc.\n",
        "    ax.set_xlabel('Decoding Methods')\n",
        "    ax.set_ylabel('Scores')\n",
        "    ax.set_title(f'{model_name} Scores by Decoding Method and Metric')\n",
        "    ax.set_xticks(x)\n",
        "    ax.set_xticklabels(methods, rotation=45, ha=\"right\")\n",
        "    ax.legend()\n",
        "\n",
        "    # Attach a text label above each bar in rects, displaying its height.\n",
        "    def autolabel(rects):\n",
        "        for rect in rects:\n",
        "            height = rect.get_height()\n",
        "            ax.annotate('{}'.format(height),\n",
        "                        xy=(rect.get_x() + rect.get_width() / 2, height),\n",
        "                        xytext=(0, 3),  # 3 points vertical offset\n",
        "                        textcoords=\"offset points\",\n",
        "                        ha='center', va='bottom')\n",
        "\n",
        "    autolabel(rects1)\n",
        "    autolabel(rects2)\n",
        "    autolabel(rects3)\n",
        "\n",
        "    fig.tight_layout()\n",
        "    plt.show()\n",
        "\n",
        "# Plot AR model scores\n",
        "plot_scores(ar_scores, 'AR Model', decoding_methods_AR)\n",
        "\n",
        "# Plot CMLM scores\n",
        "plot_scores(cmlm_scores, 'CMLM Model', decoding_methods_CMLM)\n"
      ],
      "metadata": {
        "colab": {
          "base_uri": "https://localhost:8080/",
          "height": 1000
        },
        "id": "a0Tu5z88qtG5",
        "outputId": "7fdfe28a-847d-4aac-d152-abfe79651f7a"
      },
      "execution_count": 1,
      "outputs": [
        {
          "output_type": "display_data",
          "data": {
            "text/plain": [
              "<Figure size 1000x600 with 1 Axes>"
            ],
            "image/png": "[encoded data removed]"
          },
          "metadata": {}
        },
        {
          "output_type": "display_data",
          "data": {
            "text/plain": [
              "<Figure size 1000x600 with 1 Axes>"
            ],
            "image/png": "[encoded data removed]"
          },
          "metadata": {}
        }
      ]
    }
  ],
  "metadata": {
    "colab": {
      "provenance": [],
      "toc_visible": true
    },
    "kernelspec": {
      "display_name": "Python 3",
      "name": "python3"
    },
    "language_info": {
      "name": "python"
    }
  },
  "nbformat": 4,
  "nbformat_minor": 0
}